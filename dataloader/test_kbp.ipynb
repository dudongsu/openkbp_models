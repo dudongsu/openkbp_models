{
 "cells": [
  {
   "cell_type": "markdown",
   "source": [
    "By default, the path to your Drive should be \"/content/drive/My Drive\". You may check this by clicking the file icon in\n",
    "the toolbar on the left side of Colab. From there you can navigate through your file tree and copy the path of any\n",
    "file in your Drive. \n",
    "\n",
    "Next, add the open-kbp directory to your path."
   ],
   "metadata": {
    "collapsed": false,
    "pycharm": {
     "name": "#%% md\n"
    }
   }
  },
  {
   "cell_type": "code",
   "execution_count": 1,
   "outputs": [],
   "source": [
    "# Add all files to path related to open-kbp. \n",
    "# A directory 'train-pats' with all training patient data should be included in open-kbp\n",
    "import sys\n",
    "sys.path.append(r\"C:\\\\ddu\\\\openkbp_models\")\n"
   ],
   "metadata": {
    "collapsed": false,
    "pycharm": {
     "name": "#%%\n",
     "is_executing": false
    }
   }
  },
  {
   "cell_type": "code",
   "execution_count": 9,
   "metadata": {},
   "outputs": [
    {
     "output_type": "stream",
     "name": "stdout",
     "text": [
      "<zip object at 0x000002373B835C48>\n"
     ]
    }
   ],
   "source": [
    "print(np.array(zip([1,2,3],[4,5,6])))"
   ]
  },
  {
   "cell_type": "code",
   "execution_count": 22,
   "metadata": {
    "colab": {
     "base_uri": "https://localhost:8080/",
     "height": 62
    },
    "colab_type": "code",
    "id": "vnvwlt8r80eR",
    "outputId": "a04e14a4-6671-4d85-eb0f-ed6c63312323",
    "pycharm": {
     "is_executing": false
    }
   },
   "outputs": [
    {
     "output_type": "stream",
     "name": "stdout",
     "text": [
      "The autoreload extension is already loaded. To reload it, use:\n  %reload_ext autoreload\n"
     ]
    }
   ],
   "source": [
    "\n",
    "# Import provided classes and functions\n",
    "%load_ext autoreload\n",
    "%autoreload 2\n",
    "%matplotlib inline\n",
    "import shutil\n",
    "from data_loader import DataLoader\n",
    "from dose_evaluation_class import EvaluateDose\n",
    "from general_functions import get_paths, make_directory_and_return_path\n",
    "import numpy as np\n",
    "import matplotlib.pyplot as plt\n",
    "from skimage.transform import resize\n",
    "from skimage import img_as_bool\n",
    "import skimage"
   ]
  },
  {
   "cell_type": "code",
   "execution_count": 5,
   "metadata": {},
   "outputs": [
    {
     "output_type": "execute_result",
     "data": {
      "text/plain": [
       "(1, 32, 96, 128, 13)"
      ]
     },
     "metadata": {},
     "execution_count": 5
    }
   ],
   "source": [
    "data = np.load('batch_0.npy')\n",
    "data.shape"
   ]
  },
  {
   "cell_type": "markdown",
   "metadata": {
    "colab_type": "text",
    "id": "PSmow21srjCI",
    "pycharm": {
     "name": "#%% md\n"
    }
   },
   "source": [
    "The functions loaded from _provided\\_code_ are written for this competition, and you can access them via the file \n",
    "explorer on the left hand side of the Colab window. You're welcome to change them as much as \n",
    "you'd like. Keep in mind, however, that on Colab any changes you make to the files in your Google Drive (e.g., files in\n",
    " _provided\\_code_ directory) will only be recognized by Colab when the _Runtime_ is restarted via the Restart \n",
    " Runtime option in the top toolbar. If you implement a neural network, we urge you to you start with the provided \n",
    " network architecture and network functions. The neural network we provide is only meant to be a template, and will not \n",
    " be a competitive model without some significant modifications.\n",
    "\n",
    "Before we run anything, first define the paths where the provided data is stored and where the results (e.g., models, predictions) should be saved. "
   ]
  },
  {
   "cell_type": "code",
   "execution_count": 12,
   "metadata": {
    "colab": {},
    "colab_type": "code",
    "id": "FFJEIaar-d2r",
    "pycharm": {
     "is_executing": false
    }
   },
   "outputs": [
    {
     "output_type": "stream",
     "name": "stdout",
     "text": [
      "../Data/train-pats\n"
     ]
    },
    {
     "output_type": "execute_result",
     "data": {
      "text/plain": [
       "['../Data/train-pats/pt_1',\n",
       " '../Data/train-pats/pt_10',\n",
       " '../Data/train-pats/pt_100',\n",
       " '../Data/train-pats/pt_101',\n",
       " '../Data/train-pats/pt_102',\n",
       " '../Data/train-pats/pt_103',\n",
       " '../Data/train-pats/pt_104',\n",
       " '../Data/train-pats/pt_105',\n",
       " '../Data/train-pats/pt_106',\n",
       " '../Data/train-pats/pt_107',\n",
       " '../Data/train-pats/pt_108',\n",
       " '../Data/train-pats/pt_109',\n",
       " '../Data/train-pats/pt_11',\n",
       " '../Data/train-pats/pt_110',\n",
       " '../Data/train-pats/pt_111',\n",
       " '../Data/train-pats/pt_112',\n",
       " '../Data/train-pats/pt_113',\n",
       " '../Data/train-pats/pt_114',\n",
       " '../Data/train-pats/pt_115',\n",
       " '../Data/train-pats/pt_116',\n",
       " '../Data/train-pats/pt_117',\n",
       " '../Data/train-pats/pt_118',\n",
       " '../Data/train-pats/pt_119',\n",
       " '../Data/train-pats/pt_12',\n",
       " '../Data/train-pats/pt_120',\n",
       " '../Data/train-pats/pt_121',\n",
       " '../Data/train-pats/pt_122',\n",
       " '../Data/train-pats/pt_123',\n",
       " '../Data/train-pats/pt_124',\n",
       " '../Data/train-pats/pt_125',\n",
       " '../Data/train-pats/pt_126',\n",
       " '../Data/train-pats/pt_127',\n",
       " '../Data/train-pats/pt_128',\n",
       " '../Data/train-pats/pt_129',\n",
       " '../Data/train-pats/pt_13',\n",
       " '../Data/train-pats/pt_130',\n",
       " '../Data/train-pats/pt_131',\n",
       " '../Data/train-pats/pt_132',\n",
       " '../Data/train-pats/pt_133',\n",
       " '../Data/train-pats/pt_134',\n",
       " '../Data/train-pats/pt_135',\n",
       " '../Data/train-pats/pt_136',\n",
       " '../Data/train-pats/pt_137',\n",
       " '../Data/train-pats/pt_138',\n",
       " '../Data/train-pats/pt_139',\n",
       " '../Data/train-pats/pt_14',\n",
       " '../Data/train-pats/pt_140',\n",
       " '../Data/train-pats/pt_141',\n",
       " '../Data/train-pats/pt_142',\n",
       " '../Data/train-pats/pt_143',\n",
       " '../Data/train-pats/pt_144',\n",
       " '../Data/train-pats/pt_145',\n",
       " '../Data/train-pats/pt_146',\n",
       " '../Data/train-pats/pt_147',\n",
       " '../Data/train-pats/pt_148',\n",
       " '../Data/train-pats/pt_149',\n",
       " '../Data/train-pats/pt_15',\n",
       " '../Data/train-pats/pt_150',\n",
       " '../Data/train-pats/pt_151',\n",
       " '../Data/train-pats/pt_152',\n",
       " '../Data/train-pats/pt_153',\n",
       " '../Data/train-pats/pt_154',\n",
       " '../Data/train-pats/pt_155',\n",
       " '../Data/train-pats/pt_156',\n",
       " '../Data/train-pats/pt_157',\n",
       " '../Data/train-pats/pt_158',\n",
       " '../Data/train-pats/pt_159',\n",
       " '../Data/train-pats/pt_16',\n",
       " '../Data/train-pats/pt_160',\n",
       " '../Data/train-pats/pt_161',\n",
       " '../Data/train-pats/pt_162',\n",
       " '../Data/train-pats/pt_163',\n",
       " '../Data/train-pats/pt_164',\n",
       " '../Data/train-pats/pt_165',\n",
       " '../Data/train-pats/pt_166',\n",
       " '../Data/train-pats/pt_167',\n",
       " '../Data/train-pats/pt_168',\n",
       " '../Data/train-pats/pt_169',\n",
       " '../Data/train-pats/pt_17',\n",
       " '../Data/train-pats/pt_170',\n",
       " '../Data/train-pats/pt_171',\n",
       " '../Data/train-pats/pt_172',\n",
       " '../Data/train-pats/pt_173',\n",
       " '../Data/train-pats/pt_174',\n",
       " '../Data/train-pats/pt_175',\n",
       " '../Data/train-pats/pt_176',\n",
       " '../Data/train-pats/pt_177',\n",
       " '../Data/train-pats/pt_178',\n",
       " '../Data/train-pats/pt_179',\n",
       " '../Data/train-pats/pt_18',\n",
       " '../Data/train-pats/pt_180',\n",
       " '../Data/train-pats/pt_181',\n",
       " '../Data/train-pats/pt_182',\n",
       " '../Data/train-pats/pt_183',\n",
       " '../Data/train-pats/pt_184',\n",
       " '../Data/train-pats/pt_185',\n",
       " '../Data/train-pats/pt_186',\n",
       " '../Data/train-pats/pt_187',\n",
       " '../Data/train-pats/pt_188',\n",
       " '../Data/train-pats/pt_189',\n",
       " '../Data/train-pats/pt_19',\n",
       " '../Data/train-pats/pt_190',\n",
       " '../Data/train-pats/pt_191',\n",
       " '../Data/train-pats/pt_192',\n",
       " '../Data/train-pats/pt_193',\n",
       " '../Data/train-pats/pt_194',\n",
       " '../Data/train-pats/pt_195',\n",
       " '../Data/train-pats/pt_196',\n",
       " '../Data/train-pats/pt_197',\n",
       " '../Data/train-pats/pt_198',\n",
       " '../Data/train-pats/pt_199',\n",
       " '../Data/train-pats/pt_2',\n",
       " '../Data/train-pats/pt_20',\n",
       " '../Data/train-pats/pt_200',\n",
       " '../Data/train-pats/pt_21',\n",
       " '../Data/train-pats/pt_22',\n",
       " '../Data/train-pats/pt_23',\n",
       " '../Data/train-pats/pt_24',\n",
       " '../Data/train-pats/pt_25',\n",
       " '../Data/train-pats/pt_26',\n",
       " '../Data/train-pats/pt_27',\n",
       " '../Data/train-pats/pt_28',\n",
       " '../Data/train-pats/pt_29',\n",
       " '../Data/train-pats/pt_3',\n",
       " '../Data/train-pats/pt_30',\n",
       " '../Data/train-pats/pt_31',\n",
       " '../Data/train-pats/pt_32',\n",
       " '../Data/train-pats/pt_33',\n",
       " '../Data/train-pats/pt_34',\n",
       " '../Data/train-pats/pt_35',\n",
       " '../Data/train-pats/pt_36',\n",
       " '../Data/train-pats/pt_37',\n",
       " '../Data/train-pats/pt_38',\n",
       " '../Data/train-pats/pt_39',\n",
       " '../Data/train-pats/pt_4',\n",
       " '../Data/train-pats/pt_40',\n",
       " '../Data/train-pats/pt_41',\n",
       " '../Data/train-pats/pt_42',\n",
       " '../Data/train-pats/pt_43',\n",
       " '../Data/train-pats/pt_44',\n",
       " '../Data/train-pats/pt_45',\n",
       " '../Data/train-pats/pt_46',\n",
       " '../Data/train-pats/pt_47',\n",
       " '../Data/train-pats/pt_48',\n",
       " '../Data/train-pats/pt_49',\n",
       " '../Data/train-pats/pt_5',\n",
       " '../Data/train-pats/pt_50',\n",
       " '../Data/train-pats/pt_51',\n",
       " '../Data/train-pats/pt_52',\n",
       " '../Data/train-pats/pt_53',\n",
       " '../Data/train-pats/pt_54',\n",
       " '../Data/train-pats/pt_55',\n",
       " '../Data/train-pats/pt_56',\n",
       " '../Data/train-pats/pt_57',\n",
       " '../Data/train-pats/pt_58',\n",
       " '../Data/train-pats/pt_59',\n",
       " '../Data/train-pats/pt_6',\n",
       " '../Data/train-pats/pt_60',\n",
       " '../Data/train-pats/pt_61',\n",
       " '../Data/train-pats/pt_62',\n",
       " '../Data/train-pats/pt_63',\n",
       " '../Data/train-pats/pt_64',\n",
       " '../Data/train-pats/pt_65',\n",
       " '../Data/train-pats/pt_66',\n",
       " '../Data/train-pats/pt_67',\n",
       " '../Data/train-pats/pt_68',\n",
       " '../Data/train-pats/pt_69',\n",
       " '../Data/train-pats/pt_7',\n",
       " '../Data/train-pats/pt_70',\n",
       " '../Data/train-pats/pt_71',\n",
       " '../Data/train-pats/pt_72',\n",
       " '../Data/train-pats/pt_73',\n",
       " '../Data/train-pats/pt_74',\n",
       " '../Data/train-pats/pt_75',\n",
       " '../Data/train-pats/pt_76',\n",
       " '../Data/train-pats/pt_77',\n",
       " '../Data/train-pats/pt_78',\n",
       " '../Data/train-pats/pt_79',\n",
       " '../Data/train-pats/pt_8',\n",
       " '../Data/train-pats/pt_80',\n",
       " '../Data/train-pats/pt_81',\n",
       " '../Data/train-pats/pt_82',\n",
       " '../Data/train-pats/pt_83',\n",
       " '../Data/train-pats/pt_84',\n",
       " '../Data/train-pats/pt_85',\n",
       " '../Data/train-pats/pt_86',\n",
       " '../Data/train-pats/pt_87',\n",
       " '../Data/train-pats/pt_88',\n",
       " '../Data/train-pats/pt_89',\n",
       " '../Data/train-pats/pt_9',\n",
       " '../Data/train-pats/pt_90',\n",
       " '../Data/train-pats/pt_91',\n",
       " '../Data/train-pats/pt_92',\n",
       " '../Data/train-pats/pt_93',\n",
       " '../Data/train-pats/pt_94',\n",
       " '../Data/train-pats/pt_95',\n",
       " '../Data/train-pats/pt_96',\n",
       " '../Data/train-pats/pt_97',\n",
       " '../Data/train-pats/pt_98',\n",
       " '../Data/train-pats/pt_99']"
      ]
     },
     "metadata": {},
     "execution_count": 12
    }
   ],
   "source": [
    "# Define parent directory\n",
    "main_data_dir = os.getcwd()\n",
    "training_data_dir = '../Data/train-pats'.format(main_data_dir)\n",
    "validation_data_dir = '../Data/validation-pats'.format(main_data_dir)\n",
    "testing_data_dir = '../Data/test-pats'.format(main_data_dir)\n",
    "training_plan_paths = get_paths(training_data_dir, ext='')  # gets the path of each plan's directory\n",
    "# Define hold out set\n",
    "print(training_data_dir)\n",
    "training_plan_paths"
   ]
  },
  {
   "cell_type": "markdown",
   "source": [
    "Initialize a data loader for the training set data, and use it to initialize a prediction model object. Call the\n",
    "train_model method to train the model for the predefined number of epochs."
   ],
   "metadata": {
    "collapsed": false,
    "pycharm": {
     "name": "#%% md\n"
    }
   }
  },
  {
   "cell_type": "code",
   "execution_count": 29,
   "outputs": [
    {
     "output_type": "stream",
     "name": "stdout",
     "text": [
      "['../Data/train-pats/pt_10']\n",
      "../Data/train-pats/pt_10\n",
      "Brainstem\n",
      "ct\n",
      "dose\n",
      "LeftParotid\n",
      "possible_dose_mask\n",
      "PTV56\n",
      "PTV70\n",
      "RightParotid\n",
      "SpinalCord\n",
      "voxel_dimensions\n"
     ]
    }
   ],
   "source": [
    "# Train a model\n",
    "data_loader_train = DataLoader(training_plan_paths)\n",
    "data_loader_train.patient_id_list\n",
    "test_list = data_loader_train.patient_id_list[0]\n",
    "test_data = data_loader_train.get_batch(index = 1)\n"
   ],
   "metadata": {
    "collapsed": false,
    "pycharm": {
     "name": "#%%\n"
    }
   }
  },
  {
   "cell_type": "code",
   "execution_count": 10,
   "metadata": {},
   "outputs": [
    {
     "output_type": "stream",
     "name": "stdout",
     "text": [
      "(1, 128, 128, 128, 10)\n"
     ]
    },
    {
     "output_type": "execute_result",
     "data": {
      "text/plain": [
       "1.0"
      ]
     },
     "metadata": {},
     "execution_count": 10
    }
   ],
   "source": [
    "print(test_data['structure_masks'].shape)\n",
    "test_scale = skimage.transform.resize(image=test_data['structure_masks'], output_shape=[1,64,64,64,10])\n",
    "max(test_scale.flatten())"
   ]
  },
  {
   "cell_type": "markdown",
   "source": [
    "We start by making a new data loader for the held-out set, and use it to predict (and save) a \n",
    "set of out-of-sample dose distributions. Note that we change the mode of the data loader to 'dose_prediction' to \n",
    "load only the data needed to make a prediction.\n"
   ],
   "metadata": {
    "collapsed": false,
    "pycharm": {
     "name": "#%% md\n"
    }
   }
  },
  {
   "cell_type": "code",
   "execution_count": 105,
   "metadata": {},
   "outputs": [],
   "source": [
    "class IndexTracker(object):\n",
    "    def __init__(self, ax, X,fig,bmin,bmax):\n",
    "        self.ax = ax\n",
    "        ax.set_title('use scroll wheel to navigate images')\n",
    "\n",
    "        self.X = X\n",
    "        self.fig = fig\n",
    "        self.slices, row, cols = X.shape\n",
    "        self.ind = self.slices//2\n",
    "\n",
    "        self.im = ax.imshow(self.X[self.ind,:,:],cmap='jet',vmin=bmin, vmax=bmax)\n",
    "        fig.colorbar(self.im, ax=self.ax )\n",
    "      #  self.im.colorbar()\n",
    "        self.update()\n",
    "\n",
    "    def onscroll(self, event):\n",
    "        print(\"%s %s\" % (event.button, event.step))\n",
    "        if event.button == 'up':\n",
    "            self.ind = (self.ind + 1) % self.slices\n",
    "        else:\n",
    "            self.ind = (self.ind - 1) % self.slices\n",
    "        self.update()\n",
    "\n",
    "    def update(self):\n",
    "        self.im.set_data(self.X[self.ind,:, :])\n",
    "        self.ax.set_ylabel('slice %s' % self.ind)\n",
    "        self.im.axes.figure.canvas.draw()"
   ]
  },
  {
   "cell_type": "code",
   "source": [
    "# Start to plot the dose and masks and show the correct \n",
    "structure = test_data['structure_masks'].squeeze()\n",
    "dose = test_data['dose'].squeeze()\n",
    "ct = test_data['ct'].squeeze()\n",
    "structure = np.array(structure, dtype='float32')\n",
    "dose = np.array(dose).astype('float32')\n",
    "ct = np.array(ct).astype('float32')\n",
    "structure = np.transpose(structure, axes=[2, 0, 1, 3])\n",
    "dose = np.transpose(dose, axes=[2, 0, 1])\n",
    "ct = np.transpose(ct, axes=[2, 0, 1])\n",
    "# crop the dose outside body\n",
    "mask = structure>0\n",
    "\n",
    "### plot organ on figure 4\n",
    "organ = 7\n",
    "mask_organ = np.squeeze(mask[:,:,:,organ])\n",
    "mask_organ = np.array(mask_organ).astype('float32')\n",
    "\n",
    "fig, (ax1, ax2, ax3)= plt.subplots(3, 1)\n",
    "tracker1 = IndexTracker(ax1, np.squeeze(ct), fig,0,3000)\n",
    "fig.canvas.mpl_connect('scroll_event', tracker1.onscroll)\n",
    "tracker2 = IndexTracker(ax2, mask_organ, fig,0,1)\n",
    "fig.canvas.mpl_connect('scroll_event', tracker2.onscroll)\n",
    "tracker3 = IndexTracker(ax3, dose, fig,0,30)\n",
    "fig.canvas.mpl_connect('scroll_event', tracker3.onscroll)\n",
    "\n",
    "plt.show()                           "
   ],
   "metadata": {
    "collapsed": false,
    "pycharm": {
     "name": "#%% \n"
    }
   },
   "execution_count": 106,
   "outputs": [
    {
     "output_type": "display_data",
     "data": {
      "text/plain": "<Figure size 432x288 with 6 Axes>",
      "image/svg+xml": "<?xml version=\"1.0\" encoding=\"utf-8\" standalone=\"no\"?>\r\n<!DOCTYPE svg PUBLIC \"-//W3C//DTD SVG 1.1//EN\"\r\n  \"http://www.w3.org/Graphics/SVG/1.1/DTD/svg11.dtd\">\r\n<!-- Created with matplotlib (https://matplotlib.org/) -->\r\n<svg height=\"263.63625pt\" version=\"1.1\" viewBox=\"0 0 230.14875 263.63625\" width=\"230.14875pt\" xmlns=\"http://www.w3.org/2000/svg\" xmlns:xlink=\"http://www.w3.org/1999/xlink\">\r\n <defs>\r\n  <style type=\"text/css\">\r\n*{stroke-linecap:butt;stroke-linejoin:round;}\r\n  </style>\r\n </defs>\r\n <g id=\"figure_1\">\r\n  <g id=\"patch_1\">\r\n   <path d=\"M 0 263.63625 \r\nL 230.14875 263.63625 \r\nL 230.14875 0 \r\nL 0 0 \r\nz\r\n\" style=\"fill:none;\"/>\r\n  </g>\r\n  <g id=\"axes_1\">\r\n   <g id=\"patch_2\">\r\n    <path d=\"M 83.097904 86.271066 \r\nL 147.050846 86.271066 \r\nL 147.050846 22.318125 \r\nL 83.097904 22.318125 \r\nz\r\n\" style=\"fill:#ffffff;\"/>\r\n   </g>\r\n   <g clip-path=\"url(#pd9ec81e756)\">\r\n    <image height=\"64\" id=\"image9559957479\" transform=\"scale(1 -1)translate(0 -64)\" width=\"64\" x=\"83.097904\" xlink:href=\"data:image/png;base64,\r\niVBORw0KGgoAAAANSUhEUgAAAEAAAABACAYAAACqaXHeAAAABHNCSVQICAgIfAhkiAAAAwNJREFUeJztmTFoFEEUhr8Ju3AhixySSIoDI0YSyBUBlZyQwsJCwUJstLBIY2WVytKpxErsbFNYWKQQDNgEsUgRUMFAikSMnHDFaa44ZCMHt2Ys3pwnguXOE27+ZmH3jv3ef+/NvDdn4IFjhDWmDaCtaIA2gLaiAdoA2ooGaANoKxqgDaCtaIA2gLaiAdoA2ooGaANoKxqgDaCtaIA2gLaiAdoA2hp5AxKNl2b5PfKtKej+cbMGzPSg9igoiwn+v8BzCxccFAYKf29w3ZNLdv2QfGMKbtvSccKWwLqV4LsG2kDWhxZQATIHjT40+uTNKcnNF7Z0pHAlsGahDuQGMuATUElh1kHLAAamU/lsIWTp8nf6JWOFMWDDStCVPiT+lQ2f9+0Uag4+GKgyzIaeof/mROlo5ZfApoV5J0EWPviegeQn106/pL70FpICZpGf4+91oWSVbsBY/UgWvHdGbhSGtYVbuONxXu3fZHfnIrRT3EnDuYUdqPhsSJCMKFmll8Dx9gTUHSx6AxLHV05hvjkunX/NOD+Y4yNm38F7T7ToJCs6adl4AUqghwSTDLY+w/0vj6HqOMsBAE8PVuV51ckakPj8z0qnC7AIJkDTL3QFkuJ5Cgk8278rO8Oek92h4r/TTmHSQbN0ugAZUPPXwtd1YcSELoxVj6Cw8jxBsiBxUvtNA1dt6XjlG9DYGuZZgZREyzC99JnjzgTsWdgyZDOHkgVdIz3CfK90NAjSCW4OG59BTFVoH5wZbnXLjrzlu78EmRECzQRhWuFFK8F2kTof1Ppkj4dzq748/EiyS9ARLewwtG6lvhNkUYRh8IWRuQDgig2GFHYczv0b/7W9dYDtcDgQehpcscPuzvcEv1O/A0wCT2xQpPAHIk38YISkfGEk8B5wwwbHCX8ktmIl4DZ+8kNKIw9OAmidCV620gGC7A414I5VQQl/JPafaeRPhaMB2gDaigZoA2grGqANoK1ogDaAtqIB2gDaigZoA2grGqANoK1ogDaAtqIB2gDaGnkDfgECc8IMGPEtewAAAABJRU5ErkJggg==\" y=\"-22.271066\"/>\r\n   </g>\r\n   <g id=\"matplotlib.axis_1\">\r\n    <g id=\"xtick_1\">\r\n     <g id=\"line2d_1\">\r\n      <defs>\r\n       <path d=\"M 0 0 \r\nL 0 3.5 \r\n\" id=\"mbcb4fef20f\" style=\"stroke:#000000;stroke-width:0.8;\"/>\r\n      </defs>\r\n      <g>\r\n       <use style=\"stroke:#000000;stroke-width:0.8;\" x=\"83.347721\" xlink:href=\"#mbcb4fef20f\" y=\"86.271066\"/>\r\n      </g>\r\n     </g>\r\n     <g id=\"text_1\">\r\n      <!-- 0 -->\r\n      <defs>\r\n       <path d=\"M 31.78125 66.40625 \r\nQ 24.171875 66.40625 20.328125 58.90625 \r\nQ 16.5 51.421875 16.5 36.375 \r\nQ 16.5 21.390625 20.328125 13.890625 \r\nQ 24.171875 6.390625 31.78125 6.390625 \r\nQ 39.453125 6.390625 43.28125 13.890625 \r\nQ 47.125 21.390625 47.125 36.375 \r\nQ 47.125 51.421875 43.28125 58.90625 \r\nQ 39.453125 66.40625 31.78125 66.40625 \r\nz\r\nM 31.78125 74.21875 \r\nQ 44.046875 74.21875 50.515625 64.515625 \r\nQ 56.984375 54.828125 56.984375 36.375 \r\nQ 56.984375 17.96875 50.515625 8.265625 \r\nQ 44.046875 -1.421875 31.78125 -1.421875 \r\nQ 19.53125 -1.421875 13.0625 8.265625 \r\nQ 6.59375 17.96875 6.59375 36.375 \r\nQ 6.59375 54.828125 13.0625 64.515625 \r\nQ 19.53125 74.21875 31.78125 74.21875 \r\nz\r\n\" id=\"DejaVuSans-48\"/>\r\n      </defs>\r\n      <g transform=\"translate(80.166471 100.869504)scale(0.1 -0.1)\">\r\n       <use xlink:href=\"#DejaVuSans-48\"/>\r\n      </g>\r\n     </g>\r\n    </g>\r\n    <g id=\"xtick_2\">\r\n     <g id=\"line2d_2\">\r\n      <g>\r\n       <use style=\"stroke:#000000;stroke-width:0.8;\" x=\"133.310956\" xlink:href=\"#mbcb4fef20f\" y=\"86.271066\"/>\r\n      </g>\r\n     </g>\r\n     <g id=\"text_2\">\r\n      <!-- 100 -->\r\n      <defs>\r\n       <path d=\"M 12.40625 8.296875 \r\nL 28.515625 8.296875 \r\nL 28.515625 63.921875 \r\nL 10.984375 60.40625 \r\nL 10.984375 69.390625 \r\nL 28.421875 72.90625 \r\nL 38.28125 72.90625 \r\nL 38.28125 8.296875 \r\nL 54.390625 8.296875 \r\nL 54.390625 0 \r\nL 12.40625 0 \r\nz\r\n\" id=\"DejaVuSans-49\"/>\r\n      </defs>\r\n      <g transform=\"translate(123.767206 100.869504)scale(0.1 -0.1)\">\r\n       <use xlink:href=\"#DejaVuSans-49\"/>\r\n       <use x=\"63.623047\" xlink:href=\"#DejaVuSans-48\"/>\r\n       <use x=\"127.246094\" xlink:href=\"#DejaVuSans-48\"/>\r\n      </g>\r\n     </g>\r\n    </g>\r\n   </g>\r\n   <g id=\"matplotlib.axis_2\">\r\n    <g id=\"ytick_1\">\r\n     <g id=\"line2d_3\">\r\n      <defs>\r\n       <path d=\"M 0 0 \r\nL -3.5 0 \r\n\" id=\"ma37f0286a6\" style=\"stroke:#000000;stroke-width:0.8;\"/>\r\n      </defs>\r\n      <g>\r\n       <use style=\"stroke:#000000;stroke-width:0.8;\" x=\"83.097904\" xlink:href=\"#ma37f0286a6\" y=\"22.567941\"/>\r\n      </g>\r\n     </g>\r\n     <g id=\"text_3\">\r\n      <!-- 0 -->\r\n      <g transform=\"translate(69.735404 26.36716)scale(0.1 -0.1)\">\r\n       <use xlink:href=\"#DejaVuSans-48\"/>\r\n      </g>\r\n     </g>\r\n    </g>\r\n    <g id=\"ytick_2\">\r\n     <g id=\"line2d_4\">\r\n      <g>\r\n       <use style=\"stroke:#000000;stroke-width:0.8;\" x=\"83.097904\" xlink:href=\"#ma37f0286a6\" y=\"47.549559\"/>\r\n      </g>\r\n     </g>\r\n     <g id=\"text_4\">\r\n      <!-- 50 -->\r\n      <defs>\r\n       <path d=\"M 10.796875 72.90625 \r\nL 49.515625 72.90625 \r\nL 49.515625 64.59375 \r\nL 19.828125 64.59375 \r\nL 19.828125 46.734375 \r\nQ 21.96875 47.46875 24.109375 47.828125 \r\nQ 26.265625 48.1875 28.421875 48.1875 \r\nQ 40.625 48.1875 47.75 41.5 \r\nQ 54.890625 34.8125 54.890625 23.390625 \r\nQ 54.890625 11.625 47.5625 5.09375 \r\nQ 40.234375 -1.421875 26.90625 -1.421875 \r\nQ 22.3125 -1.421875 17.546875 -0.640625 \r\nQ 12.796875 0.140625 7.71875 1.703125 \r\nL 7.71875 11.625 \r\nQ 12.109375 9.234375 16.796875 8.0625 \r\nQ 21.484375 6.890625 26.703125 6.890625 \r\nQ 35.15625 6.890625 40.078125 11.328125 \r\nQ 45.015625 15.765625 45.015625 23.390625 \r\nQ 45.015625 31 40.078125 35.4375 \r\nQ 35.15625 39.890625 26.703125 39.890625 \r\nQ 22.75 39.890625 18.8125 39.015625 \r\nQ 14.890625 38.140625 10.796875 36.28125 \r\nz\r\n\" id=\"DejaVuSans-53\"/>\r\n      </defs>\r\n      <g transform=\"translate(63.372904 51.348778)scale(0.1 -0.1)\">\r\n       <use xlink:href=\"#DejaVuSans-53\"/>\r\n       <use x=\"63.623047\" xlink:href=\"#DejaVuSans-48\"/>\r\n      </g>\r\n     </g>\r\n    </g>\r\n    <g id=\"ytick_3\">\r\n     <g id=\"line2d_5\">\r\n      <g>\r\n       <use style=\"stroke:#000000;stroke-width:0.8;\" x=\"83.097904\" xlink:href=\"#ma37f0286a6\" y=\"72.531176\"/>\r\n      </g>\r\n     </g>\r\n     <g id=\"text_5\">\r\n      <!-- 100 -->\r\n      <g transform=\"translate(57.010404 76.330395)scale(0.1 -0.1)\">\r\n       <use xlink:href=\"#DejaVuSans-49\"/>\r\n       <use x=\"63.623047\" xlink:href=\"#DejaVuSans-48\"/>\r\n       <use x=\"127.246094\" xlink:href=\"#DejaVuSans-48\"/>\r\n      </g>\r\n     </g>\r\n    </g>\r\n    <g id=\"text_6\">\r\n     <!-- slice 64 -->\r\n     <defs>\r\n      <path d=\"M 44.28125 53.078125 \r\nL 44.28125 44.578125 \r\nQ 40.484375 46.53125 36.375 47.5 \r\nQ 32.28125 48.484375 27.875 48.484375 \r\nQ 21.1875 48.484375 17.84375 46.4375 \r\nQ 14.5 44.390625 14.5 40.28125 \r\nQ 14.5 37.15625 16.890625 35.375 \r\nQ 19.28125 33.59375 26.515625 31.984375 \r\nL 29.59375 31.296875 \r\nQ 39.15625 29.25 43.1875 25.515625 \r\nQ 47.21875 21.78125 47.21875 15.09375 \r\nQ 47.21875 7.46875 41.1875 3.015625 \r\nQ 35.15625 -1.421875 24.609375 -1.421875 \r\nQ 20.21875 -1.421875 15.453125 -0.5625 \r\nQ 10.6875 0.296875 5.421875 2 \r\nL 5.421875 11.28125 \r\nQ 10.40625 8.6875 15.234375 7.390625 \r\nQ 20.0625 6.109375 24.8125 6.109375 \r\nQ 31.15625 6.109375 34.5625 8.28125 \r\nQ 37.984375 10.453125 37.984375 14.40625 \r\nQ 37.984375 18.0625 35.515625 20.015625 \r\nQ 33.0625 21.96875 24.703125 23.78125 \r\nL 21.578125 24.515625 \r\nQ 13.234375 26.265625 9.515625 29.90625 \r\nQ 5.8125 33.546875 5.8125 39.890625 \r\nQ 5.8125 47.609375 11.28125 51.796875 \r\nQ 16.75 56 26.8125 56 \r\nQ 31.78125 56 36.171875 55.265625 \r\nQ 40.578125 54.546875 44.28125 53.078125 \r\nz\r\n\" id=\"DejaVuSans-115\"/>\r\n      <path d=\"M 9.421875 75.984375 \r\nL 18.40625 75.984375 \r\nL 18.40625 0 \r\nL 9.421875 0 \r\nz\r\n\" id=\"DejaVuSans-108\"/>\r\n      <path d=\"M 9.421875 54.6875 \r\nL 18.40625 54.6875 \r\nL 18.40625 0 \r\nL 9.421875 0 \r\nz\r\nM 9.421875 75.984375 \r\nL 18.40625 75.984375 \r\nL 18.40625 64.59375 \r\nL 9.421875 64.59375 \r\nz\r\n\" id=\"DejaVuSans-105\"/>\r\n      <path d=\"M 48.78125 52.59375 \r\nL 48.78125 44.1875 \r\nQ 44.96875 46.296875 41.140625 47.34375 \r\nQ 37.3125 48.390625 33.40625 48.390625 \r\nQ 24.65625 48.390625 19.8125 42.84375 \r\nQ 14.984375 37.3125 14.984375 27.296875 \r\nQ 14.984375 17.28125 19.8125 11.734375 \r\nQ 24.65625 6.203125 33.40625 6.203125 \r\nQ 37.3125 6.203125 41.140625 7.25 \r\nQ 44.96875 8.296875 48.78125 10.40625 \r\nL 48.78125 2.09375 \r\nQ 45.015625 0.34375 40.984375 -0.53125 \r\nQ 36.96875 -1.421875 32.421875 -1.421875 \r\nQ 20.0625 -1.421875 12.78125 6.34375 \r\nQ 5.515625 14.109375 5.515625 27.296875 \r\nQ 5.515625 40.671875 12.859375 48.328125 \r\nQ 20.21875 56 33.015625 56 \r\nQ 37.15625 56 41.109375 55.140625 \r\nQ 45.0625 54.296875 48.78125 52.59375 \r\nz\r\n\" id=\"DejaVuSans-99\"/>\r\n      <path d=\"M 56.203125 29.59375 \r\nL 56.203125 25.203125 \r\nL 14.890625 25.203125 \r\nQ 15.484375 15.921875 20.484375 11.0625 \r\nQ 25.484375 6.203125 34.421875 6.203125 \r\nQ 39.59375 6.203125 44.453125 7.46875 \r\nQ 49.3125 8.734375 54.109375 11.28125 \r\nL 54.109375 2.78125 \r\nQ 49.265625 0.734375 44.1875 -0.34375 \r\nQ 39.109375 -1.421875 33.890625 -1.421875 \r\nQ 20.796875 -1.421875 13.15625 6.1875 \r\nQ 5.515625 13.8125 5.515625 26.8125 \r\nQ 5.515625 40.234375 12.765625 48.109375 \r\nQ 20.015625 56 32.328125 56 \r\nQ 43.359375 56 49.78125 48.890625 \r\nQ 56.203125 41.796875 56.203125 29.59375 \r\nz\r\nM 47.21875 32.234375 \r\nQ 47.125 39.59375 43.09375 43.984375 \r\nQ 39.0625 48.390625 32.421875 48.390625 \r\nQ 24.90625 48.390625 20.390625 44.140625 \r\nQ 15.875 39.890625 15.1875 32.171875 \r\nz\r\n\" id=\"DejaVuSans-101\"/>\r\n      <path id=\"DejaVuSans-32\"/>\r\n      <path d=\"M 33.015625 40.375 \r\nQ 26.375 40.375 22.484375 35.828125 \r\nQ 18.609375 31.296875 18.609375 23.390625 \r\nQ 18.609375 15.53125 22.484375 10.953125 \r\nQ 26.375 6.390625 33.015625 6.390625 \r\nQ 39.65625 6.390625 43.53125 10.953125 \r\nQ 47.40625 15.53125 47.40625 23.390625 \r\nQ 47.40625 31.296875 43.53125 35.828125 \r\nQ 39.65625 40.375 33.015625 40.375 \r\nz\r\nM 52.59375 71.296875 \r\nL 52.59375 62.3125 \r\nQ 48.875 64.0625 45.09375 64.984375 \r\nQ 41.3125 65.921875 37.59375 65.921875 \r\nQ 27.828125 65.921875 22.671875 59.328125 \r\nQ 17.53125 52.734375 16.796875 39.40625 \r\nQ 19.671875 43.65625 24.015625 45.921875 \r\nQ 28.375 48.1875 33.59375 48.1875 \r\nQ 44.578125 48.1875 50.953125 41.515625 \r\nQ 57.328125 34.859375 57.328125 23.390625 \r\nQ 57.328125 12.15625 50.6875 5.359375 \r\nQ 44.046875 -1.421875 33.015625 -1.421875 \r\nQ 20.359375 -1.421875 13.671875 8.265625 \r\nQ 6.984375 17.96875 6.984375 36.375 \r\nQ 6.984375 53.65625 15.1875 63.9375 \r\nQ 23.390625 74.21875 37.203125 74.21875 \r\nQ 40.921875 74.21875 44.703125 73.484375 \r\nQ 48.484375 72.75 52.59375 71.296875 \r\nz\r\n\" id=\"DejaVuSans-54\"/>\r\n      <path d=\"M 37.796875 64.3125 \r\nL 12.890625 25.390625 \r\nL 37.796875 25.390625 \r\nz\r\nM 35.203125 72.90625 \r\nL 47.609375 72.90625 \r\nL 47.609375 25.390625 \r\nL 58.015625 25.390625 \r\nL 58.015625 17.1875 \r\nL 47.609375 17.1875 \r\nL 47.609375 0 \r\nL 37.796875 0 \r\nL 37.796875 17.1875 \r\nL 4.890625 17.1875 \r\nL 4.890625 26.703125 \r\nz\r\n\" id=\"DejaVuSans-52\"/>\r\n     </defs>\r\n     <g transform=\"translate(50.930717 73.454752)rotate(-90)scale(0.1 -0.1)\">\r\n      <use xlink:href=\"#DejaVuSans-115\"/>\r\n      <use x=\"52.099609\" xlink:href=\"#DejaVuSans-108\"/>\r\n      <use x=\"79.882812\" xlink:href=\"#DejaVuSans-105\"/>\r\n      <use x=\"107.666016\" xlink:href=\"#DejaVuSans-99\"/>\r\n      <use x=\"162.646484\" xlink:href=\"#DejaVuSans-101\"/>\r\n      <use x=\"224.169922\" xlink:href=\"#DejaVuSans-32\"/>\r\n      <use x=\"255.957031\" xlink:href=\"#DejaVuSans-54\"/>\r\n      <use x=\"319.580078\" xlink:href=\"#DejaVuSans-52\"/>\r\n     </g>\r\n    </g>\r\n   </g>\r\n   <g id=\"patch_3\">\r\n    <path d=\"M 83.097904 86.271066 \r\nL 83.097904 22.318125 \r\n\" style=\"fill:none;stroke:#000000;stroke-linecap:square;stroke-linejoin:miter;stroke-width:0.8;\"/>\r\n   </g>\r\n   <g id=\"patch_4\">\r\n    <path d=\"M 147.050846 86.271066 \r\nL 147.050846 22.318125 \r\n\" style=\"fill:none;stroke:#000000;stroke-linecap:square;stroke-linejoin:miter;stroke-width:0.8;\"/>\r\n   </g>\r\n   <g id=\"patch_5\">\r\n    <path d=\"M 83.097904 86.271066 \r\nL 147.050846 86.271066 \r\n\" style=\"fill:none;stroke:#000000;stroke-linecap:square;stroke-linejoin:miter;stroke-width:0.8;\"/>\r\n   </g>\r\n   <g id=\"patch_6\">\r\n    <path d=\"M 83.097904 22.318125 \r\nL 147.050846 22.318125 \r\n\" style=\"fill:none;stroke:#000000;stroke-linecap:square;stroke-linejoin:miter;stroke-width:0.8;\"/>\r\n   </g>\r\n   <g id=\"text_7\">\r\n    <!-- use scroll wheel to navigate images -->\r\n    <defs>\r\n     <path d=\"M 8.5 21.578125 \r\nL 8.5 54.6875 \r\nL 17.484375 54.6875 \r\nL 17.484375 21.921875 \r\nQ 17.484375 14.15625 20.5 10.265625 \r\nQ 23.53125 6.390625 29.59375 6.390625 \r\nQ 36.859375 6.390625 41.078125 11.03125 \r\nQ 45.3125 15.671875 45.3125 23.6875 \r\nL 45.3125 54.6875 \r\nL 54.296875 54.6875 \r\nL 54.296875 0 \r\nL 45.3125 0 \r\nL 45.3125 8.40625 \r\nQ 42.046875 3.421875 37.71875 1 \r\nQ 33.40625 -1.421875 27.6875 -1.421875 \r\nQ 18.265625 -1.421875 13.375 4.4375 \r\nQ 8.5 10.296875 8.5 21.578125 \r\nz\r\nM 31.109375 56 \r\nz\r\n\" id=\"DejaVuSans-117\"/>\r\n     <path d=\"M 41.109375 46.296875 \r\nQ 39.59375 47.171875 37.8125 47.578125 \r\nQ 36.03125 48 33.890625 48 \r\nQ 26.265625 48 22.1875 43.046875 \r\nQ 18.109375 38.09375 18.109375 28.8125 \r\nL 18.109375 0 \r\nL 9.078125 0 \r\nL 9.078125 54.6875 \r\nL 18.109375 54.6875 \r\nL 18.109375 46.1875 \r\nQ 20.953125 51.171875 25.484375 53.578125 \r\nQ 30.03125 56 36.53125 56 \r\nQ 37.453125 56 38.578125 55.875 \r\nQ 39.703125 55.765625 41.0625 55.515625 \r\nz\r\n\" id=\"DejaVuSans-114\"/>\r\n     <path d=\"M 30.609375 48.390625 \r\nQ 23.390625 48.390625 19.1875 42.75 \r\nQ 14.984375 37.109375 14.984375 27.296875 \r\nQ 14.984375 17.484375 19.15625 11.84375 \r\nQ 23.34375 6.203125 30.609375 6.203125 \r\nQ 37.796875 6.203125 41.984375 11.859375 \r\nQ 46.1875 17.53125 46.1875 27.296875 \r\nQ 46.1875 37.015625 41.984375 42.703125 \r\nQ 37.796875 48.390625 30.609375 48.390625 \r\nz\r\nM 30.609375 56 \r\nQ 42.328125 56 49.015625 48.375 \r\nQ 55.71875 40.765625 55.71875 27.296875 \r\nQ 55.71875 13.875 49.015625 6.21875 \r\nQ 42.328125 -1.421875 30.609375 -1.421875 \r\nQ 18.84375 -1.421875 12.171875 6.21875 \r\nQ 5.515625 13.875 5.515625 27.296875 \r\nQ 5.515625 40.765625 12.171875 48.375 \r\nQ 18.84375 56 30.609375 56 \r\nz\r\n\" id=\"DejaVuSans-111\"/>\r\n     <path d=\"M 4.203125 54.6875 \r\nL 13.1875 54.6875 \r\nL 24.421875 12.015625 \r\nL 35.59375 54.6875 \r\nL 46.1875 54.6875 \r\nL 57.421875 12.015625 \r\nL 68.609375 54.6875 \r\nL 77.59375 54.6875 \r\nL 63.28125 0 \r\nL 52.6875 0 \r\nL 40.921875 44.828125 \r\nL 29.109375 0 \r\nL 18.5 0 \r\nz\r\n\" id=\"DejaVuSans-119\"/>\r\n     <path d=\"M 54.890625 33.015625 \r\nL 54.890625 0 \r\nL 45.90625 0 \r\nL 45.90625 32.71875 \r\nQ 45.90625 40.484375 42.875 44.328125 \r\nQ 39.84375 48.1875 33.796875 48.1875 \r\nQ 26.515625 48.1875 22.3125 43.546875 \r\nQ 18.109375 38.921875 18.109375 30.90625 \r\nL 18.109375 0 \r\nL 9.078125 0 \r\nL 9.078125 75.984375 \r\nL 18.109375 75.984375 \r\nL 18.109375 46.1875 \r\nQ 21.34375 51.125 25.703125 53.5625 \r\nQ 30.078125 56 35.796875 56 \r\nQ 45.21875 56 50.046875 50.171875 \r\nQ 54.890625 44.34375 54.890625 33.015625 \r\nz\r\n\" id=\"DejaVuSans-104\"/>\r\n     <path d=\"M 18.3125 70.21875 \r\nL 18.3125 54.6875 \r\nL 36.8125 54.6875 \r\nL 36.8125 47.703125 \r\nL 18.3125 47.703125 \r\nL 18.3125 18.015625 \r\nQ 18.3125 11.328125 20.140625 9.421875 \r\nQ 21.96875 7.515625 27.59375 7.515625 \r\nL 36.8125 7.515625 \r\nL 36.8125 0 \r\nL 27.59375 0 \r\nQ 17.1875 0 13.234375 3.875 \r\nQ 9.28125 7.765625 9.28125 18.015625 \r\nL 9.28125 47.703125 \r\nL 2.6875 47.703125 \r\nL 2.6875 54.6875 \r\nL 9.28125 54.6875 \r\nL 9.28125 70.21875 \r\nz\r\n\" id=\"DejaVuSans-116\"/>\r\n     <path d=\"M 54.890625 33.015625 \r\nL 54.890625 0 \r\nL 45.90625 0 \r\nL 45.90625 32.71875 \r\nQ 45.90625 40.484375 42.875 44.328125 \r\nQ 39.84375 48.1875 33.796875 48.1875 \r\nQ 26.515625 48.1875 22.3125 43.546875 \r\nQ 18.109375 38.921875 18.109375 30.90625 \r\nL 18.109375 0 \r\nL 9.078125 0 \r\nL 9.078125 54.6875 \r\nL 18.109375 54.6875 \r\nL 18.109375 46.1875 \r\nQ 21.34375 51.125 25.703125 53.5625 \r\nQ 30.078125 56 35.796875 56 \r\nQ 45.21875 56 50.046875 50.171875 \r\nQ 54.890625 44.34375 54.890625 33.015625 \r\nz\r\n\" id=\"DejaVuSans-110\"/>\r\n     <path d=\"M 34.28125 27.484375 \r\nQ 23.390625 27.484375 19.1875 25 \r\nQ 14.984375 22.515625 14.984375 16.5 \r\nQ 14.984375 11.71875 18.140625 8.90625 \r\nQ 21.296875 6.109375 26.703125 6.109375 \r\nQ 34.1875 6.109375 38.703125 11.40625 \r\nQ 43.21875 16.703125 43.21875 25.484375 \r\nL 43.21875 27.484375 \r\nz\r\nM 52.203125 31.203125 \r\nL 52.203125 0 \r\nL 43.21875 0 \r\nL 43.21875 8.296875 \r\nQ 40.140625 3.328125 35.546875 0.953125 \r\nQ 30.953125 -1.421875 24.3125 -1.421875 \r\nQ 15.921875 -1.421875 10.953125 3.296875 \r\nQ 6 8.015625 6 15.921875 \r\nQ 6 25.140625 12.171875 29.828125 \r\nQ 18.359375 34.515625 30.609375 34.515625 \r\nL 43.21875 34.515625 \r\nL 43.21875 35.40625 \r\nQ 43.21875 41.609375 39.140625 45 \r\nQ 35.0625 48.390625 27.6875 48.390625 \r\nQ 23 48.390625 18.546875 47.265625 \r\nQ 14.109375 46.140625 10.015625 43.890625 \r\nL 10.015625 52.203125 \r\nQ 14.9375 54.109375 19.578125 55.046875 \r\nQ 24.21875 56 28.609375 56 \r\nQ 40.484375 56 46.34375 49.84375 \r\nQ 52.203125 43.703125 52.203125 31.203125 \r\nz\r\n\" id=\"DejaVuSans-97\"/>\r\n     <path d=\"M 2.984375 54.6875 \r\nL 12.5 54.6875 \r\nL 29.59375 8.796875 \r\nL 46.6875 54.6875 \r\nL 56.203125 54.6875 \r\nL 35.6875 0 \r\nL 23.484375 0 \r\nz\r\n\" id=\"DejaVuSans-118\"/>\r\n     <path d=\"M 45.40625 27.984375 \r\nQ 45.40625 37.75 41.375 43.109375 \r\nQ 37.359375 48.484375 30.078125 48.484375 \r\nQ 22.859375 48.484375 18.828125 43.109375 \r\nQ 14.796875 37.75 14.796875 27.984375 \r\nQ 14.796875 18.265625 18.828125 12.890625 \r\nQ 22.859375 7.515625 30.078125 7.515625 \r\nQ 37.359375 7.515625 41.375 12.890625 \r\nQ 45.40625 18.265625 45.40625 27.984375 \r\nz\r\nM 54.390625 6.78125 \r\nQ 54.390625 -7.171875 48.1875 -13.984375 \r\nQ 42 -20.796875 29.203125 -20.796875 \r\nQ 24.46875 -20.796875 20.265625 -20.09375 \r\nQ 16.0625 -19.390625 12.109375 -17.921875 \r\nL 12.109375 -9.1875 \r\nQ 16.0625 -11.328125 19.921875 -12.34375 \r\nQ 23.78125 -13.375 27.78125 -13.375 \r\nQ 36.625 -13.375 41.015625 -8.765625 \r\nQ 45.40625 -4.15625 45.40625 5.171875 \r\nL 45.40625 9.625 \r\nQ 42.625 4.78125 38.28125 2.390625 \r\nQ 33.9375 0 27.875 0 \r\nQ 17.828125 0 11.671875 7.65625 \r\nQ 5.515625 15.328125 5.515625 27.984375 \r\nQ 5.515625 40.671875 11.671875 48.328125 \r\nQ 17.828125 56 27.875 56 \r\nQ 33.9375 56 38.28125 53.609375 \r\nQ 42.625 51.21875 45.40625 46.390625 \r\nL 45.40625 54.6875 \r\nL 54.390625 54.6875 \r\nz\r\n\" id=\"DejaVuSans-103\"/>\r\n     <path d=\"M 52 44.1875 \r\nQ 55.375 50.25 60.0625 53.125 \r\nQ 64.75 56 71.09375 56 \r\nQ 79.640625 56 84.28125 50.015625 \r\nQ 88.921875 44.046875 88.921875 33.015625 \r\nL 88.921875 0 \r\nL 79.890625 0 \r\nL 79.890625 32.71875 \r\nQ 79.890625 40.578125 77.09375 44.375 \r\nQ 74.3125 48.1875 68.609375 48.1875 \r\nQ 61.625 48.1875 57.5625 43.546875 \r\nQ 53.515625 38.921875 53.515625 30.90625 \r\nL 53.515625 0 \r\nL 44.484375 0 \r\nL 44.484375 32.71875 \r\nQ 44.484375 40.625 41.703125 44.40625 \r\nQ 38.921875 48.1875 33.109375 48.1875 \r\nQ 26.21875 48.1875 22.15625 43.53125 \r\nQ 18.109375 38.875 18.109375 30.90625 \r\nL 18.109375 0 \r\nL 9.078125 0 \r\nL 9.078125 54.6875 \r\nL 18.109375 54.6875 \r\nL 18.109375 46.1875 \r\nQ 21.1875 51.21875 25.484375 53.609375 \r\nQ 29.78125 56 35.6875 56 \r\nQ 41.65625 56 45.828125 52.96875 \r\nQ 50 49.953125 52 44.1875 \r\nz\r\n\" id=\"DejaVuSans-109\"/>\r\n    </defs>\r\n    <g transform=\"translate(7.2 16.318125)scale(0.12 -0.12)\">\r\n     <use xlink:href=\"#DejaVuSans-117\"/>\r\n     <use x=\"63.378906\" xlink:href=\"#DejaVuSans-115\"/>\r\n     <use x=\"115.478516\" xlink:href=\"#DejaVuSans-101\"/>\r\n     <use x=\"177.001953\" xlink:href=\"#DejaVuSans-32\"/>\r\n     <use x=\"208.789062\" xlink:href=\"#DejaVuSans-115\"/>\r\n     <use x=\"260.888672\" xlink:href=\"#DejaVuSans-99\"/>\r\n     <use x=\"315.869141\" xlink:href=\"#DejaVuSans-114\"/>\r\n     <use x=\"356.951172\" xlink:href=\"#DejaVuSans-111\"/>\r\n     <use x=\"418.132812\" xlink:href=\"#DejaVuSans-108\"/>\r\n     <use x=\"445.916016\" xlink:href=\"#DejaVuSans-108\"/>\r\n     <use x=\"473.699219\" xlink:href=\"#DejaVuSans-32\"/>\r\n     <use x=\"505.486328\" xlink:href=\"#DejaVuSans-119\"/>\r\n     <use x=\"587.273438\" xlink:href=\"#DejaVuSans-104\"/>\r\n     <use x=\"650.652344\" xlink:href=\"#DejaVuSans-101\"/>\r\n     <use x=\"712.175781\" xlink:href=\"#DejaVuSans-101\"/>\r\n     <use x=\"773.699219\" xlink:href=\"#DejaVuSans-108\"/>\r\n     <use x=\"801.482422\" xlink:href=\"#DejaVuSans-32\"/>\r\n     <use x=\"833.269531\" xlink:href=\"#DejaVuSans-116\"/>\r\n     <use x=\"872.478516\" xlink:href=\"#DejaVuSans-111\"/>\r\n     <use x=\"933.660156\" xlink:href=\"#DejaVuSans-32\"/>\r\n     <use x=\"965.447266\" xlink:href=\"#DejaVuSans-110\"/>\r\n     <use x=\"1028.826172\" xlink:href=\"#DejaVuSans-97\"/>\r\n     <use x=\"1090.105469\" xlink:href=\"#DejaVuSans-118\"/>\r\n     <use x=\"1149.285156\" xlink:href=\"#DejaVuSans-105\"/>\r\n     <use x=\"1177.068359\" xlink:href=\"#DejaVuSans-103\"/>\r\n     <use x=\"1240.544922\" xlink:href=\"#DejaVuSans-97\"/>\r\n     <use x=\"1301.824219\" xlink:href=\"#DejaVuSans-116\"/>\r\n     <use x=\"1341.033203\" xlink:href=\"#DejaVuSans-101\"/>\r\n     <use x=\"1402.556641\" xlink:href=\"#DejaVuSans-32\"/>\r\n     <use x=\"1434.34375\" xlink:href=\"#DejaVuSans-105\"/>\r\n     <use x=\"1462.126953\" xlink:href=\"#DejaVuSans-109\"/>\r\n     <use x=\"1559.539062\" xlink:href=\"#DejaVuSans-97\"/>\r\n     <use x=\"1620.818359\" xlink:href=\"#DejaVuSans-103\"/>\r\n     <use x=\"1684.294922\" xlink:href=\"#DejaVuSans-101\"/>\r\n     <use x=\"1745.818359\" xlink:href=\"#DejaVuSans-115\"/>\r\n    </g>\r\n   </g>\r\n  </g>\r\n  <g id=\"axes_2\">\r\n   <g id=\"patch_7\">\r\n    <path d=\"M 83.097904 163.014596 \r\nL 147.050846 163.014596 \r\nL 147.050846 99.061654 \r\nL 83.097904 99.061654 \r\nz\r\n\" style=\"fill:#ffffff;\"/>\r\n   </g>\r\n   <g clip-path=\"url(#pdd33d1db96)\">\r\n    <image height=\"64\" id=\"image204ef93fbb\" transform=\"scale(1 -1)translate(0 -64)\" width=\"64\" x=\"83.097904\" xlink:href=\"data:image/png;base64,\r\niVBORw0KGgoAAAANSUhEUgAAAEAAAABACAYAAACqaXHeAAAABHNCSVQICAgIfAhkiAAAAPdJREFUeJzt2csKwkAQBdGO+N/DfLmuhBCJRpA+Ym5tFVJd84jgUjVudWIuWkCTAFpAkwBaQJMAWkCTAFpAkwBaQJMAWkCTAFpAkwBaQJMAWkCTAFpAkwBaQJMAWkCTAFpAkwBaQHMVDx01dz+bNRpNqpauv8fXQ+8NeeQ736blCLxa8TXdq18F7oB3Q3ZHOP0l2BLgk1U9ely+RdsOeEQ4MmDnMWg9Au8GGzX//w6YNWrUfNoJ3Vv/QdvvgC3bgcUrsAoG+BXyGtQCmgTQApoE0AKaBNACmgTQApoE0AKaBNACmgTQApoE0AKaBNACmgTQAprTB7gD544ed83YpncAAAAASUVORK5CYII=\" y=\"-99.014596\"/>\r\n   </g>\r\n   <g id=\"matplotlib.axis_3\">\r\n    <g id=\"xtick_3\">\r\n     <g id=\"line2d_6\">\r\n      <g>\r\n       <use style=\"stroke:#000000;stroke-width:0.8;\" x=\"83.347721\" xlink:href=\"#mbcb4fef20f\" y=\"163.014596\"/>\r\n      </g>\r\n     </g>\r\n     <g id=\"text_8\">\r\n      <!-- 0 -->\r\n      <g transform=\"translate(80.166471 177.613033)scale(0.1 -0.1)\">\r\n       <use xlink:href=\"#DejaVuSans-48\"/>\r\n      </g>\r\n     </g>\r\n    </g>\r\n    <g id=\"xtick_4\">\r\n     <g id=\"line2d_7\">\r\n      <g>\r\n       <use style=\"stroke:#000000;stroke-width:0.8;\" x=\"133.310956\" xlink:href=\"#mbcb4fef20f\" y=\"163.014596\"/>\r\n      </g>\r\n     </g>\r\n     <g id=\"text_9\">\r\n      <!-- 100 -->\r\n      <g transform=\"translate(123.767206 177.613033)scale(0.1 -0.1)\">\r\n       <use xlink:href=\"#DejaVuSans-49\"/>\r\n       <use x=\"63.623047\" xlink:href=\"#DejaVuSans-48\"/>\r\n       <use x=\"127.246094\" xlink:href=\"#DejaVuSans-48\"/>\r\n      </g>\r\n     </g>\r\n    </g>\r\n   </g>\r\n   <g id=\"matplotlib.axis_4\">\r\n    <g id=\"ytick_4\">\r\n     <g id=\"line2d_8\">\r\n      <g>\r\n       <use style=\"stroke:#000000;stroke-width:0.8;\" x=\"83.097904\" xlink:href=\"#ma37f0286a6\" y=\"99.311471\"/>\r\n      </g>\r\n     </g>\r\n     <g id=\"text_10\">\r\n      <!-- 0 -->\r\n      <g transform=\"translate(69.735404 103.110689)scale(0.1 -0.1)\">\r\n       <use xlink:href=\"#DejaVuSans-48\"/>\r\n      </g>\r\n     </g>\r\n    </g>\r\n    <g id=\"ytick_5\">\r\n     <g id=\"line2d_9\">\r\n      <g>\r\n       <use style=\"stroke:#000000;stroke-width:0.8;\" x=\"83.097904\" xlink:href=\"#ma37f0286a6\" y=\"124.293088\"/>\r\n      </g>\r\n     </g>\r\n     <g id=\"text_11\">\r\n      <!-- 50 -->\r\n      <g transform=\"translate(63.372904 128.092307)scale(0.1 -0.1)\">\r\n       <use xlink:href=\"#DejaVuSans-53\"/>\r\n       <use x=\"63.623047\" xlink:href=\"#DejaVuSans-48\"/>\r\n      </g>\r\n     </g>\r\n    </g>\r\n    <g id=\"ytick_6\">\r\n     <g id=\"line2d_10\">\r\n      <g>\r\n       <use style=\"stroke:#000000;stroke-width:0.8;\" x=\"83.097904\" xlink:href=\"#ma37f0286a6\" y=\"149.274706\"/>\r\n      </g>\r\n     </g>\r\n     <g id=\"text_12\">\r\n      <!-- 100 -->\r\n      <g transform=\"translate(57.010404 153.073925)scale(0.1 -0.1)\">\r\n       <use xlink:href=\"#DejaVuSans-49\"/>\r\n       <use x=\"63.623047\" xlink:href=\"#DejaVuSans-48\"/>\r\n       <use x=\"127.246094\" xlink:href=\"#DejaVuSans-48\"/>\r\n      </g>\r\n     </g>\r\n    </g>\r\n    <g id=\"text_13\">\r\n     <!-- slice 64 -->\r\n     <g transform=\"translate(50.930717 150.198281)rotate(-90)scale(0.1 -0.1)\">\r\n      <use xlink:href=\"#DejaVuSans-115\"/>\r\n      <use x=\"52.099609\" xlink:href=\"#DejaVuSans-108\"/>\r\n      <use x=\"79.882812\" xlink:href=\"#DejaVuSans-105\"/>\r\n      <use x=\"107.666016\" xlink:href=\"#DejaVuSans-99\"/>\r\n      <use x=\"162.646484\" xlink:href=\"#DejaVuSans-101\"/>\r\n      <use x=\"224.169922\" xlink:href=\"#DejaVuSans-32\"/>\r\n      <use x=\"255.957031\" xlink:href=\"#DejaVuSans-54\"/>\r\n      <use x=\"319.580078\" xlink:href=\"#DejaVuSans-52\"/>\r\n     </g>\r\n    </g>\r\n   </g>\r\n   <g id=\"patch_8\">\r\n    <path d=\"M 83.097904 163.014596 \r\nL 83.097904 99.061654 \r\n\" style=\"fill:none;stroke:#000000;stroke-linecap:square;stroke-linejoin:miter;stroke-width:0.8;\"/>\r\n   </g>\r\n   <g id=\"patch_9\">\r\n    <path d=\"M 147.050846 163.014596 \r\nL 147.050846 99.061654 \r\n\" style=\"fill:none;stroke:#000000;stroke-linecap:square;stroke-linejoin:miter;stroke-width:0.8;\"/>\r\n   </g>\r\n   <g id=\"patch_10\">\r\n    <path d=\"M 83.097904 163.014596 \r\nL 147.050846 163.014596 \r\n\" style=\"fill:none;stroke:#000000;stroke-linecap:square;stroke-linejoin:miter;stroke-width:0.8;\"/>\r\n   </g>\r\n   <g id=\"patch_11\">\r\n    <path d=\"M 83.097904 99.061654 \r\nL 147.050846 99.061654 \r\n\" style=\"fill:none;stroke:#000000;stroke-linecap:square;stroke-linejoin:miter;stroke-width:0.8;\"/>\r\n   </g>\r\n   <g id=\"text_14\">\r\n    <!-- use scroll wheel to navigate images -->\r\n    <g transform=\"translate(7.2 93.061654)scale(0.12 -0.12)\">\r\n     <use xlink:href=\"#DejaVuSans-117\"/>\r\n     <use x=\"63.378906\" xlink:href=\"#DejaVuSans-115\"/>\r\n     <use x=\"115.478516\" xlink:href=\"#DejaVuSans-101\"/>\r\n     <use x=\"177.001953\" xlink:href=\"#DejaVuSans-32\"/>\r\n     <use x=\"208.789062\" xlink:href=\"#DejaVuSans-115\"/>\r\n     <use x=\"260.888672\" xlink:href=\"#DejaVuSans-99\"/>\r\n     <use x=\"315.869141\" xlink:href=\"#DejaVuSans-114\"/>\r\n     <use x=\"356.951172\" xlink:href=\"#DejaVuSans-111\"/>\r\n     <use x=\"418.132812\" xlink:href=\"#DejaVuSans-108\"/>\r\n     <use x=\"445.916016\" xlink:href=\"#DejaVuSans-108\"/>\r\n     <use x=\"473.699219\" xlink:href=\"#DejaVuSans-32\"/>\r\n     <use x=\"505.486328\" xlink:href=\"#DejaVuSans-119\"/>\r\n     <use x=\"587.273438\" xlink:href=\"#DejaVuSans-104\"/>\r\n     <use x=\"650.652344\" xlink:href=\"#DejaVuSans-101\"/>\r\n     <use x=\"712.175781\" xlink:href=\"#DejaVuSans-101\"/>\r\n     <use x=\"773.699219\" xlink:href=\"#DejaVuSans-108\"/>\r\n     <use x=\"801.482422\" xlink:href=\"#DejaVuSans-32\"/>\r\n     <use x=\"833.269531\" xlink:href=\"#DejaVuSans-116\"/>\r\n     <use x=\"872.478516\" xlink:href=\"#DejaVuSans-111\"/>\r\n     <use x=\"933.660156\" xlink:href=\"#DejaVuSans-32\"/>\r\n     <use x=\"965.447266\" xlink:href=\"#DejaVuSans-110\"/>\r\n     <use x=\"1028.826172\" xlink:href=\"#DejaVuSans-97\"/>\r\n     <use x=\"1090.105469\" xlink:href=\"#DejaVuSans-118\"/>\r\n     <use x=\"1149.285156\" xlink:href=\"#DejaVuSans-105\"/>\r\n     <use x=\"1177.068359\" xlink:href=\"#DejaVuSans-103\"/>\r\n     <use x=\"1240.544922\" xlink:href=\"#DejaVuSans-97\"/>\r\n     <use x=\"1301.824219\" xlink:href=\"#DejaVuSans-116\"/>\r\n     <use x=\"1341.033203\" xlink:href=\"#DejaVuSans-101\"/>\r\n     <use x=\"1402.556641\" xlink:href=\"#DejaVuSans-32\"/>\r\n     <use x=\"1434.34375\" xlink:href=\"#DejaVuSans-105\"/>\r\n     <use x=\"1462.126953\" xlink:href=\"#DejaVuSans-109\"/>\r\n     <use x=\"1559.539062\" xlink:href=\"#DejaVuSans-97\"/>\r\n     <use x=\"1620.818359\" xlink:href=\"#DejaVuSans-103\"/>\r\n     <use x=\"1684.294922\" xlink:href=\"#DejaVuSans-101\"/>\r\n     <use x=\"1745.818359\" xlink:href=\"#DejaVuSans-115\"/>\r\n    </g>\r\n   </g>\r\n  </g>\r\n  <g id=\"axes_3\">\r\n   <g id=\"patch_12\">\r\n    <path d=\"M 83.097904 239.758125 \r\nL 147.050846 239.758125 \r\nL 147.050846 175.805184 \r\nL 83.097904 175.805184 \r\nz\r\n\" style=\"fill:#ffffff;\"/>\r\n   </g>\r\n   <g clip-path=\"url(#p48a0083bc9)\">\r\n    <image height=\"64\" id=\"imagea60cdba95d\" transform=\"scale(1 -1)translate(0 -64)\" width=\"64\" x=\"83.097904\" xlink:href=\"data:image/png;base64,\r\niVBORw0KGgoAAAANSUhEUgAAAEAAAABACAYAAACqaXHeAAAABHNCSVQICAgIfAhkiAAAAh1JREFUeJztmb9rE2Ech5+3SbXQFILSBsQhpeKPoiC00CKINwji4l+gi3TUycExd5uTILrZQSj+A25CQUURAhkEIUVsJYOIJSi1toM/knOoIKKCIvf9vJDvAzckd3DP+/B9cwkJ0MgZYIbUAmo8gFpAjQdQC6jxAGoBNR5ALaDGA6gF1HgAtYAaD6AWUOMB1AJqPIBaQI0HUAuoGfgAZcldb6XwFdgC6sAsMPIFyj3Yf81UxTzAeH6R7loOTwJUgcMwVN1mrPqR6d1tkrzPIV5QY52zISncxzTAqXyeMZr0plrcr5yhvzrKcH1zZ/GlNgkPmKbNJB128Zkj+TlWwr1CncwC3Mxfs8EyAD1KVGsbtGoz9ChTY52TPGaOJpN0OPjhFcPbsLBvkStMFOoVLP4ae0vGCpDchu5ChTWmWOUA79jLc45Rp8McTU58esroYp+Xl+AukD6EkDQKdSs8QIPs1/f2QLgBHGVnBieAO5Be/fm6dBZCq9gAkqdA9h648BcXvinaJPLvAdcHPcCmwT2iDmBB1AEyiv0ABIMAFov4H6KdAKtwJgH+dTGWU2M2AbFuhei2gHUo0wAxToH5BKTH/3xOEcg8QHjW4HLpx+sEOP39UGDyc/h35EsZ3fMVxh9twQiEec32kAWIheieAtZ4ALWAGg+gFlDjAdQCajyAWkCNB1ALqPEAagE1HkAtoMYDqAXUeAC1gJqBD/ANdptsodmlQBEAAAAASUVORK5CYII=\" y=\"-175.758125\"/>\r\n   </g>\r\n   <g id=\"matplotlib.axis_5\">\r\n    <g id=\"xtick_5\">\r\n     <g id=\"line2d_11\">\r\n      <g>\r\n       <use style=\"stroke:#000000;stroke-width:0.8;\" x=\"83.347721\" xlink:href=\"#mbcb4fef20f\" y=\"239.758125\"/>\r\n      </g>\r\n     </g>\r\n     <g id=\"text_15\">\r\n      <!-- 0 -->\r\n      <g transform=\"translate(80.166471 254.356563)scale(0.1 -0.1)\">\r\n       <use xlink:href=\"#DejaVuSans-48\"/>\r\n      </g>\r\n     </g>\r\n    </g>\r\n    <g id=\"xtick_6\">\r\n     <g id=\"line2d_12\">\r\n      <g>\r\n       <use style=\"stroke:#000000;stroke-width:0.8;\" x=\"133.310956\" xlink:href=\"#mbcb4fef20f\" y=\"239.758125\"/>\r\n      </g>\r\n     </g>\r\n     <g id=\"text_16\">\r\n      <!-- 100 -->\r\n      <g transform=\"translate(123.767206 254.356563)scale(0.1 -0.1)\">\r\n       <use xlink:href=\"#DejaVuSans-49\"/>\r\n       <use x=\"63.623047\" xlink:href=\"#DejaVuSans-48\"/>\r\n       <use x=\"127.246094\" xlink:href=\"#DejaVuSans-48\"/>\r\n      </g>\r\n     </g>\r\n    </g>\r\n   </g>\r\n   <g id=\"matplotlib.axis_6\">\r\n    <g id=\"ytick_7\">\r\n     <g id=\"line2d_13\">\r\n      <g>\r\n       <use style=\"stroke:#000000;stroke-width:0.8;\" x=\"83.097904\" xlink:href=\"#ma37f0286a6\" y=\"176.055\"/>\r\n      </g>\r\n     </g>\r\n     <g id=\"text_17\">\r\n      <!-- 0 -->\r\n      <g transform=\"translate(69.735404 179.854219)scale(0.1 -0.1)\">\r\n       <use xlink:href=\"#DejaVuSans-48\"/>\r\n      </g>\r\n     </g>\r\n    </g>\r\n    <g id=\"ytick_8\">\r\n     <g id=\"line2d_14\">\r\n      <g>\r\n       <use style=\"stroke:#000000;stroke-width:0.8;\" x=\"83.097904\" xlink:href=\"#ma37f0286a6\" y=\"201.036618\"/>\r\n      </g>\r\n     </g>\r\n     <g id=\"text_18\">\r\n      <!-- 50 -->\r\n      <g transform=\"translate(63.372904 204.835836)scale(0.1 -0.1)\">\r\n       <use xlink:href=\"#DejaVuSans-53\"/>\r\n       <use x=\"63.623047\" xlink:href=\"#DejaVuSans-48\"/>\r\n      </g>\r\n     </g>\r\n    </g>\r\n    <g id=\"ytick_9\">\r\n     <g id=\"line2d_15\">\r\n      <g>\r\n       <use style=\"stroke:#000000;stroke-width:0.8;\" x=\"83.097904\" xlink:href=\"#ma37f0286a6\" y=\"226.018235\"/>\r\n      </g>\r\n     </g>\r\n     <g id=\"text_19\">\r\n      <!-- 100 -->\r\n      <g transform=\"translate(57.010404 229.817454)scale(0.1 -0.1)\">\r\n       <use xlink:href=\"#DejaVuSans-49\"/>\r\n       <use x=\"63.623047\" xlink:href=\"#DejaVuSans-48\"/>\r\n       <use x=\"127.246094\" xlink:href=\"#DejaVuSans-48\"/>\r\n      </g>\r\n     </g>\r\n    </g>\r\n    <g id=\"text_20\">\r\n     <!-- slice 64 -->\r\n     <g transform=\"translate(50.930717 226.941811)rotate(-90)scale(0.1 -0.1)\">\r\n      <use xlink:href=\"#DejaVuSans-115\"/>\r\n      <use x=\"52.099609\" xlink:href=\"#DejaVuSans-108\"/>\r\n      <use x=\"79.882812\" xlink:href=\"#DejaVuSans-105\"/>\r\n      <use x=\"107.666016\" xlink:href=\"#DejaVuSans-99\"/>\r\n      <use x=\"162.646484\" xlink:href=\"#DejaVuSans-101\"/>\r\n      <use x=\"224.169922\" xlink:href=\"#DejaVuSans-32\"/>\r\n      <use x=\"255.957031\" xlink:href=\"#DejaVuSans-54\"/>\r\n      <use x=\"319.580078\" xlink:href=\"#DejaVuSans-52\"/>\r\n     </g>\r\n    </g>\r\n   </g>\r\n   <g id=\"patch_13\">\r\n    <path d=\"M 83.097904 239.758125 \r\nL 83.097904 175.805184 \r\n\" style=\"fill:none;stroke:#000000;stroke-linecap:square;stroke-linejoin:miter;stroke-width:0.8;\"/>\r\n   </g>\r\n   <g id=\"patch_14\">\r\n    <path d=\"M 147.050846 239.758125 \r\nL 147.050846 175.805184 \r\n\" style=\"fill:none;stroke:#000000;stroke-linecap:square;stroke-linejoin:miter;stroke-width:0.8;\"/>\r\n   </g>\r\n   <g id=\"patch_15\">\r\n    <path d=\"M 83.097904 239.758125 \r\nL 147.050846 239.758125 \r\n\" style=\"fill:none;stroke:#000000;stroke-linecap:square;stroke-linejoin:miter;stroke-width:0.8;\"/>\r\n   </g>\r\n   <g id=\"patch_16\">\r\n    <path d=\"M 83.097904 175.805184 \r\nL 147.050846 175.805184 \r\n\" style=\"fill:none;stroke:#000000;stroke-linecap:square;stroke-linejoin:miter;stroke-width:0.8;\"/>\r\n   </g>\r\n   <g id=\"text_21\">\r\n    <!-- use scroll wheel to navigate images -->\r\n    <g transform=\"translate(7.2 169.805184)scale(0.12 -0.12)\">\r\n     <use xlink:href=\"#DejaVuSans-117\"/>\r\n     <use x=\"63.378906\" xlink:href=\"#DejaVuSans-115\"/>\r\n     <use x=\"115.478516\" xlink:href=\"#DejaVuSans-101\"/>\r\n     <use x=\"177.001953\" xlink:href=\"#DejaVuSans-32\"/>\r\n     <use x=\"208.789062\" xlink:href=\"#DejaVuSans-115\"/>\r\n     <use x=\"260.888672\" xlink:href=\"#DejaVuSans-99\"/>\r\n     <use x=\"315.869141\" xlink:href=\"#DejaVuSans-114\"/>\r\n     <use x=\"356.951172\" xlink:href=\"#DejaVuSans-111\"/>\r\n     <use x=\"418.132812\" xlink:href=\"#DejaVuSans-108\"/>\r\n     <use x=\"445.916016\" xlink:href=\"#DejaVuSans-108\"/>\r\n     <use x=\"473.699219\" xlink:href=\"#DejaVuSans-32\"/>\r\n     <use x=\"505.486328\" xlink:href=\"#DejaVuSans-119\"/>\r\n     <use x=\"587.273438\" xlink:href=\"#DejaVuSans-104\"/>\r\n     <use x=\"650.652344\" xlink:href=\"#DejaVuSans-101\"/>\r\n     <use x=\"712.175781\" xlink:href=\"#DejaVuSans-101\"/>\r\n     <use x=\"773.699219\" xlink:href=\"#DejaVuSans-108\"/>\r\n     <use x=\"801.482422\" xlink:href=\"#DejaVuSans-32\"/>\r\n     <use x=\"833.269531\" xlink:href=\"#DejaVuSans-116\"/>\r\n     <use x=\"872.478516\" xlink:href=\"#DejaVuSans-111\"/>\r\n     <use x=\"933.660156\" xlink:href=\"#DejaVuSans-32\"/>\r\n     <use x=\"965.447266\" xlink:href=\"#DejaVuSans-110\"/>\r\n     <use x=\"1028.826172\" xlink:href=\"#DejaVuSans-97\"/>\r\n     <use x=\"1090.105469\" xlink:href=\"#DejaVuSans-118\"/>\r\n     <use x=\"1149.285156\" xlink:href=\"#DejaVuSans-105\"/>\r\n     <use x=\"1177.068359\" xlink:href=\"#DejaVuSans-103\"/>\r\n     <use x=\"1240.544922\" xlink:href=\"#DejaVuSans-97\"/>\r\n     <use x=\"1301.824219\" xlink:href=\"#DejaVuSans-116\"/>\r\n     <use x=\"1341.033203\" xlink:href=\"#DejaVuSans-101\"/>\r\n     <use x=\"1402.556641\" xlink:href=\"#DejaVuSans-32\"/>\r\n     <use x=\"1434.34375\" xlink:href=\"#DejaVuSans-105\"/>\r\n     <use x=\"1462.126953\" xlink:href=\"#DejaVuSans-109\"/>\r\n     <use x=\"1559.539062\" xlink:href=\"#DejaVuSans-97\"/>\r\n     <use x=\"1620.818359\" xlink:href=\"#DejaVuSans-103\"/>\r\n     <use x=\"1684.294922\" xlink:href=\"#DejaVuSans-101\"/>\r\n     <use x=\"1745.818359\" xlink:href=\"#DejaVuSans-115\"/>\r\n    </g>\r\n   </g>\r\n  </g>\r\n  <g id=\"axes_4\">\r\n   <g id=\"patch_17\">\r\n    <path clip-path=\"url(#p5e00f90892)\" d=\"M 163.790846 86.271066 \r\nL 163.790846 86.02125 \r\nL 163.790846 22.567941 \r\nL 163.790846 22.318125 \r\nL 166.988493 22.318125 \r\nL 166.988493 22.567941 \r\nL 166.988493 86.02125 \r\nL 166.988493 86.271066 \r\nz\r\n\" style=\"fill:#ffffff;stroke:#ffffff;stroke-linejoin:miter;stroke-width:0.01;\"/>\r\n   </g>\r\n   <image height=\"64\" id=\"image57df89b7c7\" transform=\"scale(1 -1)translate(0 -64)\" width=\"3\" x=\"164\" xlink:href=\"data:image/png;base64,\r\niVBORw0KGgoAAAANSUhEUgAAAAMAAABACAYAAADf5M19AAAABHNCSVQICAgIfAhkiAAAAGpJREFUKJG10c0KgCAQBOAxoh8ozN66h00wM7zZJXAuRiS7t4+dXVZUwJbwVAusqIECrkRItHoEzSxy0AxT2Wl0yJiNJ3QnAV4K00tM6gIVA/LP9Q45ho84fsyIbVNuoPfYSDGLEvZih3EDDqM0VUFiiPEAAAAASUVORK5CYII=\" y=\"-22\"/>\r\n   <g id=\"matplotlib.axis_7\"/>\r\n   <g id=\"matplotlib.axis_8\">\r\n    <g id=\"ytick_10\">\r\n     <g id=\"line2d_16\">\r\n      <defs>\r\n       <path d=\"M 0 0 \r\nL 3.5 0 \r\n\" id=\"mc07ebfce05\" style=\"stroke:#000000;stroke-width:0.8;\"/>\r\n      </defs>\r\n      <g>\r\n       <use style=\"stroke:#000000;stroke-width:0.8;\" x=\"166.988493\" xlink:href=\"#mc07ebfce05\" y=\"86.271066\"/>\r\n      </g>\r\n     </g>\r\n     <g id=\"text_22\">\r\n      <!-- 0 -->\r\n      <g transform=\"translate(173.988493 90.070285)scale(0.1 -0.1)\">\r\n       <use xlink:href=\"#DejaVuSans-48\"/>\r\n      </g>\r\n     </g>\r\n    </g>\r\n    <g id=\"ytick_11\">\r\n     <g id=\"line2d_17\">\r\n      <g>\r\n       <use style=\"stroke:#000000;stroke-width:0.8;\" x=\"166.988493\" xlink:href=\"#mc07ebfce05\" y=\"64.953419\"/>\r\n      </g>\r\n     </g>\r\n     <g id=\"text_23\">\r\n      <!-- 1000 -->\r\n      <g transform=\"translate(173.988493 68.752638)scale(0.1 -0.1)\">\r\n       <use xlink:href=\"#DejaVuSans-49\"/>\r\n       <use x=\"63.623047\" xlink:href=\"#DejaVuSans-48\"/>\r\n       <use x=\"127.246094\" xlink:href=\"#DejaVuSans-48\"/>\r\n       <use x=\"190.869141\" xlink:href=\"#DejaVuSans-48\"/>\r\n      </g>\r\n     </g>\r\n    </g>\r\n    <g id=\"ytick_12\">\r\n     <g id=\"line2d_18\">\r\n      <g>\r\n       <use style=\"stroke:#000000;stroke-width:0.8;\" x=\"166.988493\" xlink:href=\"#mc07ebfce05\" y=\"43.635772\"/>\r\n      </g>\r\n     </g>\r\n     <g id=\"text_24\">\r\n      <!-- 2000 -->\r\n      <defs>\r\n       <path d=\"M 19.1875 8.296875 \r\nL 53.609375 8.296875 \r\nL 53.609375 0 \r\nL 7.328125 0 \r\nL 7.328125 8.296875 \r\nQ 12.9375 14.109375 22.625 23.890625 \r\nQ 32.328125 33.6875 34.8125 36.53125 \r\nQ 39.546875 41.84375 41.421875 45.53125 \r\nQ 43.3125 49.21875 43.3125 52.78125 \r\nQ 43.3125 58.59375 39.234375 62.25 \r\nQ 35.15625 65.921875 28.609375 65.921875 \r\nQ 23.96875 65.921875 18.8125 64.3125 \r\nQ 13.671875 62.703125 7.8125 59.421875 \r\nL 7.8125 69.390625 \r\nQ 13.765625 71.78125 18.9375 73 \r\nQ 24.125 74.21875 28.421875 74.21875 \r\nQ 39.75 74.21875 46.484375 68.546875 \r\nQ 53.21875 62.890625 53.21875 53.421875 \r\nQ 53.21875 48.921875 51.53125 44.890625 \r\nQ 49.859375 40.875 45.40625 35.40625 \r\nQ 44.1875 33.984375 37.640625 27.21875 \r\nQ 31.109375 20.453125 19.1875 8.296875 \r\nz\r\n\" id=\"DejaVuSans-50\"/>\r\n      </defs>\r\n      <g transform=\"translate(173.988493 47.434991)scale(0.1 -0.1)\">\r\n       <use xlink:href=\"#DejaVuSans-50\"/>\r\n       <use x=\"63.623047\" xlink:href=\"#DejaVuSans-48\"/>\r\n       <use x=\"127.246094\" xlink:href=\"#DejaVuSans-48\"/>\r\n       <use x=\"190.869141\" xlink:href=\"#DejaVuSans-48\"/>\r\n      </g>\r\n     </g>\r\n    </g>\r\n    <g id=\"ytick_13\">\r\n     <g id=\"line2d_19\">\r\n      <g>\r\n       <use style=\"stroke:#000000;stroke-width:0.8;\" x=\"166.988493\" xlink:href=\"#mc07ebfce05\" y=\"22.318125\"/>\r\n      </g>\r\n     </g>\r\n     <g id=\"text_25\">\r\n      <!-- 3000 -->\r\n      <defs>\r\n       <path d=\"M 40.578125 39.3125 \r\nQ 47.65625 37.796875 51.625 33 \r\nQ 55.609375 28.21875 55.609375 21.1875 \r\nQ 55.609375 10.40625 48.1875 4.484375 \r\nQ 40.765625 -1.421875 27.09375 -1.421875 \r\nQ 22.515625 -1.421875 17.65625 -0.515625 \r\nQ 12.796875 0.390625 7.625 2.203125 \r\nL 7.625 11.71875 \r\nQ 11.71875 9.328125 16.59375 8.109375 \r\nQ 21.484375 6.890625 26.8125 6.890625 \r\nQ 36.078125 6.890625 40.9375 10.546875 \r\nQ 45.796875 14.203125 45.796875 21.1875 \r\nQ 45.796875 27.640625 41.28125 31.265625 \r\nQ 36.765625 34.90625 28.71875 34.90625 \r\nL 20.21875 34.90625 \r\nL 20.21875 43.015625 \r\nL 29.109375 43.015625 \r\nQ 36.375 43.015625 40.234375 45.921875 \r\nQ 44.09375 48.828125 44.09375 54.296875 \r\nQ 44.09375 59.90625 40.109375 62.90625 \r\nQ 36.140625 65.921875 28.71875 65.921875 \r\nQ 24.65625 65.921875 20.015625 65.03125 \r\nQ 15.375 64.15625 9.8125 62.3125 \r\nL 9.8125 71.09375 \r\nQ 15.4375 72.65625 20.34375 73.4375 \r\nQ 25.25 74.21875 29.59375 74.21875 \r\nQ 40.828125 74.21875 47.359375 69.109375 \r\nQ 53.90625 64.015625 53.90625 55.328125 \r\nQ 53.90625 49.265625 50.4375 45.09375 \r\nQ 46.96875 40.921875 40.578125 39.3125 \r\nz\r\n\" id=\"DejaVuSans-51\"/>\r\n      </defs>\r\n      <g transform=\"translate(173.988493 26.117344)scale(0.1 -0.1)\">\r\n       <use xlink:href=\"#DejaVuSans-51\"/>\r\n       <use x=\"63.623047\" xlink:href=\"#DejaVuSans-48\"/>\r\n       <use x=\"127.246094\" xlink:href=\"#DejaVuSans-48\"/>\r\n       <use x=\"190.869141\" xlink:href=\"#DejaVuSans-48\"/>\r\n      </g>\r\n     </g>\r\n    </g>\r\n   </g>\r\n   <g id=\"patch_18\">\r\n    <path d=\"M 163.790846 86.271066 \r\nL 163.790846 86.02125 \r\nL 163.790846 22.567941 \r\nL 163.790846 22.318125 \r\nL 166.988493 22.318125 \r\nL 166.988493 22.567941 \r\nL 166.988493 86.02125 \r\nL 166.988493 86.271066 \r\nz\r\n\" style=\"fill:none;stroke:#000000;stroke-linejoin:miter;stroke-width:0.8;\"/>\r\n   </g>\r\n  </g>\r\n  <g id=\"axes_5\">\r\n   <g id=\"patch_19\">\r\n    <path clip-path=\"url(#p6b5a11470b)\" d=\"M 163.790846 163.014596 \r\nL 163.790846 162.764779 \r\nL 163.790846 99.311471 \r\nL 163.790846 99.061654 \r\nL 166.988493 99.061654 \r\nL 166.988493 99.311471 \r\nL 166.988493 162.764779 \r\nL 166.988493 163.014596 \r\nz\r\n\" style=\"fill:#ffffff;stroke:#ffffff;stroke-linejoin:miter;stroke-width:0.01;\"/>\r\n   </g>\r\n   <image height=\"64\" id=\"image0a00f3d9c0\" transform=\"scale(1 -1)translate(0 -64)\" width=\"3\" x=\"164\" xlink:href=\"data:image/png;base64,\r\niVBORw0KGgoAAAANSUhEUgAAAAMAAABACAYAAADf5M19AAAABHNCSVQICAgIfAhkiAAAAHBJREFUKJG90b0KgDAMBOCLdNIKVd/dJ3QSFKriz1QXIbcootVuH22uCRGgDjiOAUoQKpzdKATwgRAozYBq3Hco4kZvCutGRZ4y8BL24tkU8Z97Hci0JrrG0ILW6IF3GP4PkDnTEaQBzdOBavoHWAg7vE43MoY0/j4AAAAASUVORK5CYII=\" y=\"-98\"/>\r\n   <g id=\"matplotlib.axis_9\"/>\r\n   <g id=\"matplotlib.axis_10\">\r\n    <g id=\"ytick_14\">\r\n     <g id=\"line2d_20\">\r\n      <g>\r\n       <use style=\"stroke:#000000;stroke-width:0.8;\" x=\"166.988493\" xlink:href=\"#mc07ebfce05\" y=\"163.014596\"/>\r\n      </g>\r\n     </g>\r\n     <g id=\"text_26\">\r\n      <!-- 0.0 -->\r\n      <defs>\r\n       <path d=\"M 10.6875 12.40625 \r\nL 21 12.40625 \r\nL 21 0 \r\nL 10.6875 0 \r\nz\r\n\" id=\"DejaVuSans-46\"/>\r\n      </defs>\r\n      <g transform=\"translate(173.988493 166.813814)scale(0.1 -0.1)\">\r\n       <use xlink:href=\"#DejaVuSans-48\"/>\r\n       <use x=\"63.623047\" xlink:href=\"#DejaVuSans-46\"/>\r\n       <use x=\"95.410156\" xlink:href=\"#DejaVuSans-48\"/>\r\n      </g>\r\n     </g>\r\n    </g>\r\n    <g id=\"ytick_15\">\r\n     <g id=\"line2d_21\">\r\n      <g>\r\n       <use style=\"stroke:#000000;stroke-width:0.8;\" x=\"166.988493\" xlink:href=\"#mc07ebfce05\" y=\"131.038125\"/>\r\n      </g>\r\n     </g>\r\n     <g id=\"text_27\">\r\n      <!-- 0.5 -->\r\n      <g transform=\"translate(173.988493 134.837344)scale(0.1 -0.1)\">\r\n       <use xlink:href=\"#DejaVuSans-48\"/>\r\n       <use x=\"63.623047\" xlink:href=\"#DejaVuSans-46\"/>\r\n       <use x=\"95.410156\" xlink:href=\"#DejaVuSans-53\"/>\r\n      </g>\r\n     </g>\r\n    </g>\r\n    <g id=\"ytick_16\">\r\n     <g id=\"line2d_22\">\r\n      <g>\r\n       <use style=\"stroke:#000000;stroke-width:0.8;\" x=\"166.988493\" xlink:href=\"#mc07ebfce05\" y=\"99.061654\"/>\r\n      </g>\r\n     </g>\r\n     <g id=\"text_28\">\r\n      <!-- 1.0 -->\r\n      <g transform=\"translate(173.988493 102.860873)scale(0.1 -0.1)\">\r\n       <use xlink:href=\"#DejaVuSans-49\"/>\r\n       <use x=\"63.623047\" xlink:href=\"#DejaVuSans-46\"/>\r\n       <use x=\"95.410156\" xlink:href=\"#DejaVuSans-48\"/>\r\n      </g>\r\n     </g>\r\n    </g>\r\n   </g>\r\n   <g id=\"patch_20\">\r\n    <path d=\"M 163.790846 163.014596 \r\nL 163.790846 162.764779 \r\nL 163.790846 99.311471 \r\nL 163.790846 99.061654 \r\nL 166.988493 99.061654 \r\nL 166.988493 99.311471 \r\nL 166.988493 162.764779 \r\nL 166.988493 163.014596 \r\nz\r\n\" style=\"fill:none;stroke:#000000;stroke-linejoin:miter;stroke-width:0.8;\"/>\r\n   </g>\r\n  </g>\r\n  <g id=\"axes_6\">\r\n   <g id=\"patch_21\">\r\n    <path clip-path=\"url(#pa34677cb9b)\" d=\"M 163.790846 239.758125 \r\nL 163.790846 239.508309 \r\nL 163.790846 176.055 \r\nL 163.790846 175.805184 \r\nL 166.988493 175.805184 \r\nL 166.988493 176.055 \r\nL 166.988493 239.508309 \r\nL 166.988493 239.758125 \r\nz\r\n\" style=\"fill:#ffffff;stroke:#ffffff;stroke-linejoin:miter;stroke-width:0.01;\"/>\r\n   </g>\r\n   <image height=\"64\" id=\"imagebc7bd17883\" transform=\"scale(1 -1)translate(0 -64)\" width=\"3\" x=\"164\" xlink:href=\"data:image/png;base64,\r\niVBORw0KGgoAAAANSUhEUgAAAAMAAABACAYAAADf5M19AAAABHNCSVQICAgIfAhkiAAAAHJJREFUKJHV0cEKgCAMBuB/EEFQIfXmPWUXA7Nbkl3CjWBhecrbx37HxgiYIq5XAQPeY0wgIIpuBBEzv0FgNMYzul4CGlq1csOWFyvE0zg8AblQp8vRYcFnJAf+g1XCfUBxg7xuuwDNEPssEDEdVq14gRMrvzVM4+IjOwAAAABJRU5ErkJggg==\" y=\"-175\"/>\r\n   <g id=\"matplotlib.axis_11\"/>\r\n   <g id=\"matplotlib.axis_12\">\r\n    <g id=\"ytick_17\">\r\n     <g id=\"line2d_23\">\r\n      <g>\r\n       <use style=\"stroke:#000000;stroke-width:0.8;\" x=\"166.988493\" xlink:href=\"#mc07ebfce05\" y=\"239.758125\"/>\r\n      </g>\r\n     </g>\r\n     <g id=\"text_29\">\r\n      <!-- 0 -->\r\n      <g transform=\"translate(173.988493 243.557344)scale(0.1 -0.1)\">\r\n       <use xlink:href=\"#DejaVuSans-48\"/>\r\n      </g>\r\n     </g>\r\n    </g>\r\n    <g id=\"ytick_18\">\r\n     <g id=\"line2d_24\">\r\n      <g>\r\n       <use style=\"stroke:#000000;stroke-width:0.8;\" x=\"166.988493\" xlink:href=\"#mc07ebfce05\" y=\"218.440478\"/>\r\n      </g>\r\n     </g>\r\n     <g id=\"text_30\">\r\n      <!-- 10 -->\r\n      <g transform=\"translate(173.988493 222.239697)scale(0.1 -0.1)\">\r\n       <use xlink:href=\"#DejaVuSans-49\"/>\r\n       <use x=\"63.623047\" xlink:href=\"#DejaVuSans-48\"/>\r\n      </g>\r\n     </g>\r\n    </g>\r\n    <g id=\"ytick_19\">\r\n     <g id=\"line2d_25\">\r\n      <g>\r\n       <use style=\"stroke:#000000;stroke-width:0.8;\" x=\"166.988493\" xlink:href=\"#mc07ebfce05\" y=\"197.122831\"/>\r\n      </g>\r\n     </g>\r\n     <g id=\"text_31\">\r\n      <!-- 20 -->\r\n      <g transform=\"translate(173.988493 200.92205)scale(0.1 -0.1)\">\r\n       <use xlink:href=\"#DejaVuSans-50\"/>\r\n       <use x=\"63.623047\" xlink:href=\"#DejaVuSans-48\"/>\r\n      </g>\r\n     </g>\r\n    </g>\r\n    <g id=\"ytick_20\">\r\n     <g id=\"line2d_26\">\r\n      <g>\r\n       <use style=\"stroke:#000000;stroke-width:0.8;\" x=\"166.988493\" xlink:href=\"#mc07ebfce05\" y=\"175.805184\"/>\r\n      </g>\r\n     </g>\r\n     <g id=\"text_32\">\r\n      <!-- 30 -->\r\n      <g transform=\"translate(173.988493 179.604403)scale(0.1 -0.1)\">\r\n       <use xlink:href=\"#DejaVuSans-51\"/>\r\n       <use x=\"63.623047\" xlink:href=\"#DejaVuSans-48\"/>\r\n      </g>\r\n     </g>\r\n    </g>\r\n   </g>\r\n   <g id=\"patch_22\">\r\n    <path d=\"M 163.790846 239.758125 \r\nL 163.790846 239.508309 \r\nL 163.790846 176.055 \r\nL 163.790846 175.805184 \r\nL 166.988493 175.805184 \r\nL 166.988493 176.055 \r\nL 166.988493 239.508309 \r\nL 166.988493 239.758125 \r\nz\r\n\" style=\"fill:none;stroke:#000000;stroke-linejoin:miter;stroke-width:0.8;\"/>\r\n   </g>\r\n  </g>\r\n </g>\r\n <defs>\r\n  <clipPath id=\"pd9ec81e756\">\r\n   <rect height=\"63.952941\" width=\"63.952941\" x=\"83.097904\" y=\"22.318125\"/>\r\n  </clipPath>\r\n  <clipPath id=\"pdd33d1db96\">\r\n   <rect height=\"63.952941\" width=\"63.952941\" x=\"83.097904\" y=\"99.061654\"/>\r\n  </clipPath>\r\n  <clipPath id=\"p48a0083bc9\">\r\n   <rect height=\"63.952941\" width=\"63.952941\" x=\"83.097904\" y=\"175.805184\"/>\r\n  </clipPath>\r\n  <clipPath id=\"p5e00f90892\">\r\n   <rect height=\"63.952941\" width=\"3.197647\" x=\"163.790846\" y=\"22.318125\"/>\r\n  </clipPath>\r\n  <clipPath id=\"p6b5a11470b\">\r\n   <rect height=\"63.952941\" width=\"3.197647\" x=\"163.790846\" y=\"99.061654\"/>\r\n  </clipPath>\r\n  <clipPath id=\"pa34677cb9b\">\r\n   <rect height=\"63.952941\" width=\"3.197647\" x=\"163.790846\" y=\"175.805184\"/>\r\n  </clipPath>\r\n </defs>\r\n</svg>\r\n",
      "image/png": "[encoded data removed]"
     },
     "metadata": {
      "needs_background": "light"
     }
    }
   ]
  },
  {
   "cell_type": "markdown",
   "source": [
    "Load each predicted dose distribution and evaluate it against the ground truth using the \n",
    "competition metrics."
   ],
   "metadata": {
    "collapsed": false,
    "pycharm": {
     "name": "#%% md\n",
     "is_executing": false
    }
   }
  },
  {
   "cell_type": "code",
   "execution_count": null,
   "outputs": [],
   "source": [
    "# Evaluate dose metrics\n",
    "data_loader_hold_out_eval = DataLoader(hold_out_plan_paths, mode_name='evaluation')  # Set data loader\n",
    "prediction_paths = get_paths(dose_prediction_model_hold_out.prediction_dir, ext='csv')\n",
    "hold_out_prediction_loader = DataLoader(prediction_paths, mode_name='predicted_dose')  # Set prediction loader\n",
    "dose_evaluator = EvaluateDose(data_loader_hold_out_eval, hold_out_prediction_loader)\n",
    "# print out scores if data was left for a hold out set\n",
    "if not data_loader_hold_out_eval.file_paths_list:\n",
    "    print('No patient information was given to calculate metrics')\n",
    "else:\n",
    "    dvh_score, dose_score = dose_evaluator.make_metrics()\n",
    "    print('For this out-of-sample test:\\n'\n",
    "          '\\tthe DVH score is {:.3f}\\n '\n",
    "          '\\tthe dose score is {:.3f}'.format(dvh_score, dose_score))"
   ],
   "metadata": {
    "collapsed": false,
    "pycharm": {
     "name": "#%%\n"
    }
   }
  },
  {
   "cell_type": "markdown",
   "source": [
    "Once you're happy with your dose distributions you can zip up the predictions with the code block below. The zipped file\n",
    "will contain the dose distributions for the validation set. It can be uploaded directly to CodaLab."
   ],
   "metadata": {
    "collapsed": false,
    "pycharm": {
     "name": "#%% md\n"
    }
   }
  },
  {
   "cell_type": "code",
   "execution_count": null,
   "outputs": [],
   "source": [
    "# Zip dose to submit\n",
    "submission_dir = make_directory_and_return_path('{}/submissions'.format(results_dir))\n",
    "shutil.make_archive('{}/{}'.format(submission_dir, prediction_name), 'zip', dose_prediction_model_hold_out.prediction_dir)"
   ],
   "metadata": {
    "collapsed": false,
    "pycharm": {
     "name": "#%%\n"
    }
   }
  }
 ],
 "metadata": {
  "accelerator": "GPU",
  "colab": {
   "collapsed_sections": [],
   "name": "open-kbp-introduction.ipynb",
   "provenance": [],
   "toc_visible": true
  },
  "kernelspec": {
   "name": "python3",
   "display_name": "Python 3.7.10 64-bit ('pytorch-gpu': conda)"
  },
  "language_info": {
   "codemirror_mode": {
    "name": "ipython",
    "version": 3
   },
   "file_extension": ".py",
   "mimetype": "text/x-python",
   "name": "python",
   "nbconvert_exporter": "python",
   "pygments_lexer": "ipython3",
   "version": "3.7.10"
  },
  "pycharm": {
   "stem_cell": {
    "cell_type": "raw",
    "source": [],
    "metadata": {
     "collapsed": false
    }
   }
  },
  "interpreter": {
   "hash": "5b2a7cf4ebe25b5ab4d0c86bbcb43d26f2bab8dfc81c26b893d01b61ab53ab98"
  }
 },
 "nbformat": 4,
 "nbformat_minor": 1
}